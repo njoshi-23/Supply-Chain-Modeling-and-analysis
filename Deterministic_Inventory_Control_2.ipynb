{
 "cells": [
  {
   "cell_type": "markdown",
   "id": "f5047ecb-ef51-4903-b3d2-8078107fb177",
   "metadata": {},
   "source": [
    "## Q1] \n",
    "An auto manufacturer uses 500 tons of steel per day. Each order incurs a fixed cost of \\\\$2,250.\n",
    "Suppose that the steel supplier offers the auto manufacturer a price of $1,490 per ton of steel\n",
    "if Q < 1200 tons; \\\\$1,220 per ton of steel if 1200 ≤ Q < 2400 tons; and \\\\$1,100 per ton of steel\n",
    "if Q ≥ 2400 tons. The annual holding cost rate, i is 0.25\n",
    "\n",
    "(a) Calculate Q∗ for the all units discount structure\n",
    "\n",
    "(b) Calculate the average total cost that the company will incur with the optimal order quantity you calculated above"
   ]
  },
  {
   "cell_type": "code",
   "execution_count": 11,
   "id": "9e2f4fcc-a9cf-4a57-9156-2d711e64c05a",
   "metadata": {},
   "outputs": [
    {
     "name": "stdout",
     "output_type": "stream",
     "text": [
      "The holding cost is 372.5\n",
      "The economic order quantity is = 1485\n",
      "The average annual cost is 272478096.4015151\n",
      "This quantity is out of given range\n",
      "\n",
      "The holding cost is 305.0\n",
      "The economic order quantity is = 1641\n",
      "The average annual cost is 223150481.01919562\n",
      "This quantity is within the given range\n",
      "\n",
      "The holding cost is 275.0\n",
      "The economic order quantity is = 1728\n",
      "The average annual cost is 201225230.20833334\n",
      "This quantity is out of the given range\n"
     ]
    }
   ],
   "source": [
    "# Given data \n",
    "\n",
    "import numpy as np\n",
    "\n",
    "# Daily demand D = 500 tons\n",
    "# Annual Demand D * 365\n",
    "D = 500 * 365\n",
    "\n",
    "# Fixed cost (ordering cost) \n",
    "S = 2250\n",
    "\n",
    "# Holding cost rate \n",
    "i = 0.25\n",
    "\n",
    "# Holding cost H = i * P\n",
    "\n",
    "#1  if Q < 1200 tons, supplier offers = $ 1490 per ton of steel\n",
    "P1 = 1490\n",
    "H1 = i * P1\n",
    "print('The holding cost is',H1)\n",
    "def EOQ(S, D, H1):\n",
    "\n",
    "    if(S>0 and D>0 and H1>0):\n",
    "\n",
    "        Q1 = round((np.sqrt(2*S*D/H1)))\n",
    "        AOC1 = D*S/Q1\n",
    "        AHC1 = Q1*H1/2\n",
    "        PUC1 = P1 * D\n",
    "        ATC1 = AOC1+AHC1+PUC1 # PUC is the purchase cost\n",
    "        print('The economic order quantity is =', Q1)\n",
    "        print('The average annual cost is',ATC1)\n",
    "        if Q1 > 1119:\n",
    "            print('This quantity is out of given range')\n",
    "        else:\n",
    "            print('This quantity is within given range')     \n",
    "EOQ(S,D,H1)\n",
    "print()\n",
    "#2 if 1200 =< Q < 2400, supplier offers = $ 1220 per ton of steel\n",
    "P2 = 1220\n",
    "H2 = i * P2\n",
    "print('The holding cost is',H2)\n",
    "def EOQ(S, D, H2):\n",
    "\n",
    "    if(S>0 and D>0 and H2>0):\n",
    "\n",
    "        Q2 = round((np.sqrt(2*S*D/H2)))\n",
    "        AOC2 = D*S/Q2\n",
    "        AHC2 = Q2*H2/2\n",
    "        PUC2 = P2 * D \n",
    "        ATC2 = AOC2+AHC2+PUC2 # PUC is the purchase cost\n",
    "        print('The economic order quantity is =', Q2)\n",
    "        print('The average annual cost is',ATC2)\n",
    "        if Q2 > 2400:\n",
    "            print('This quantity is out of the given range')\n",
    "        elif Q2 < 1200:\n",
    "            print('This quantity is out of the given range')\n",
    "        else:\n",
    "            print('This quantity is within the given range')\n",
    "EOQ(S,D,H2)\n",
    "print()\n",
    "#3 if Q >= 2400, supplier offers = $ 1100 per ton of steel\n",
    "P3 = 1100\n",
    "H3 = i * P3\n",
    "print('The holding cost is',H3)\n",
    "def EOQ(S, D, H3):\n",
    "\n",
    "    if(S>0 and D>0 and H3>0):\n",
    "\n",
    "        Q3 = round((np.sqrt(2*S*D/H3)))\n",
    "        AOC3 = D*S/Q3\n",
    "        AHC3 = Q3*H3/2\n",
    "        PUC3 = P3 * D\n",
    "        ATC3 = AOC3+AHC3+PUC3 # PUC is the purchase cost\n",
    "        print('The economic order quantity is =', Q3)\n",
    "        print('The average annual cost is',ATC3)\n",
    "        if Q3 >= 2400:\n",
    "            print('This quantity is within the given range')\n",
    "        else:\n",
    "            print('This quantity is out of the given range')\n",
    "EOQ(S,D,H3)  "
   ]
  },
  {
   "cell_type": "markdown",
   "id": "7ba2a4f3-aa13-4163-b9bf-32a699179c2f",
   "metadata": {},
   "source": [
    "Comparing the 3 values of total annual cost, we can see that the minimum value is obtained for a quantity of Q >= 2400 so optimal quantity is 2400 tons. "
   ]
  },
  {
   "cell_type": "markdown",
   "id": "ecfded99-46cd-4687-b5d7-957dd92a0028",
   "metadata": {
    "tags": []
   },
   "source": [
    "# Q2]\n",
    "We will answer the same question under the incremental discount structure. An auto manufacturer uses 500 tons of steel per day. Each order incurs a fixed cost of \\\\$2,250. Suppose that the steel supplier offers the auto manufacturer a price of \\\\$1,490 per ton of steel if Q < 1200\n",
    "tons; \\\\$1,220 per ton of steel if 1200 ≤ Q < 2400 tons; and \\\\$1,100 per ton of steel if Q ≥ 2400\n",
    "tons. The annual holding cost rate, i is 0.25.\n",
    "\n",
    "(a) Calculate Q∗ for the incremental discount structure\n",
    "\n",
    "(b) Calculate the optimal average total cost per year for the incremental discount structure."
   ]
  },
  {
   "cell_type": "code",
   "execution_count": 6,
   "id": "f1558207-0bb5-4bca-b67b-95a5c4e40ddc",
   "metadata": {},
   "outputs": [
    {
     "name": "stdout",
     "output_type": "stream",
     "text": [
      "Optimal order quantity for incremental discount if Q<1200 is 1484.822543800161\n",
      "Optimal order quantity for incremental discount if 1200<=Q<2400 is 1640.9213725281513\n",
      "Optimal order quantity for incremental discount if Q >= 2400 is 1728.1098449935514\n",
      "Average total cost for incremental discount at optimal order quantity 1200 tons is $ 272490687.5\n",
      "Average total cost for incremental discount at optimal order quantity 28553 tons is $ 208678591.67994606\n"
     ]
    }
   ],
   "source": [
    "# Given data \n",
    "\n",
    "import numpy as np\n",
    "\n",
    "# Daily demand D = 500 tons\n",
    "# Annual Demand D * 365\n",
    "D = 500 * 365\n",
    "\n",
    "# Fixed cost (ordering cost) \n",
    "S = 2250\n",
    "\n",
    "# Holding cost rate \n",
    "i = 0.25\n",
    "\n",
    "# Holding cost H = i * P\n",
    "\n",
    "#if Q<1200 tons\n",
    "c1 = 1490\n",
    "#if 1200<=Q<2400 tons\n",
    "c2 = 1220\n",
    " #if Q >= 2400 tons\n",
    "c3 = 1100 \n",
    "\n",
    "#For incremental discount ordering cost changes\n",
    "S1 = S                    #if Q<1200 tons\n",
    "S2 = S + 324000           #if 1200<=Q<2400 tons\n",
    "S3 = S + 612000           #if Q >= 2400 tons\n",
    "\n",
    "def EOQ(K,D,i,c):\n",
    "    Q=np.sqrt(2*S*D/(i*c))\n",
    "    return Q\n",
    "\n",
    "Q1 = EOQ(S1,D,i,c1)\n",
    "print('Optimal order quantity for incremental discount if Q<1200 is', Q1)\n",
    "\n",
    "Q2 = EOQ(S2,D,i,c2)\n",
    "print('Optimal order quantity for incremental discount if 1200<=Q<2400 is', Q2)\n",
    "\n",
    "Q3 = EOQ(S3,D,i,c3)\n",
    "print('Optimal order quantity for incremental discount if Q >= 2400 is', Q3)\n",
    "\n",
    "#As Q1 should be <1200 tons\n",
    "Q1 = 1200        \n",
    "Q3 = 28553\n",
    "\n",
    "C1_new = 1490\n",
    "C3_new = 1100 + 612000/Q3\n",
    "\n",
    "# Average total cost\n",
    "def TC(S,D,i,c,Q):\n",
    "    C=(i*c*Q*0.5)+(S*D)/Q + (c*D)\n",
    "    return C\n",
    "\n",
    "AvgCostQ1 = TC(S,D,i,C1_new,Q1)\n",
    "print('Average total cost for incremental discount at optimal order quantity',Q1,'tons is $',AvgCostQ1)\n",
    "\n",
    "AvgCostQ3 = TC(S,D,i,C3_new,Q3)\n",
    "print('Average total cost for incremental discount at optimal order quantity',Q3,'tons is $',AvgCostQ3)\n"
   ]
  },
  {
   "cell_type": "markdown",
   "id": "b64e06da-0d15-4e52-86eb-2ee16c05d051",
   "metadata": {},
   "source": [
    "From above analysis, the best optimal quantity is 28553 tons with total cost of \\\\$ 208678591.68 because it is the lowest."
   ]
  },
  {
   "cell_type": "markdown",
   "id": "95b62310-63c3-415a-bc62-32491eeb784a",
   "metadata": {},
   "source": [
    "# Q3]\n",
    "An auto manufacturer uses 500 tons of steel per day. The company pays \\\\$1,100 per ton of steel purchased, and each order incurs a fixed cost of \\\\$2,250. The annual holding cost rate, i is 0.25.\n",
    "Now we will try to see if there are any benefits to allowing shortages for this company. Note that this company uses steel for a manufacturing process. The shortages will be treated as backorders since the auto manufacturer will wait for the steel to be delivered. As such, shortages of this\n",
    "supply results in the production line to halt so there may be big consequence to shortages. (In the case of this manufacturer, luckily, the production line is used to manufacture another model so during the backorder period the line is used for something else.) The management is estimating that the backorder cost, b per unit per unit time is \\\\$475.\n",
    "\n",
    "(a) Calculate the optimal ordering quantity, Q∗\n",
    "\n",
    "(b) Calculate the optimal backorder quantity, B∗\n",
    "\n",
    "(c) What is the overall cost of this optimal policy you have calculated?\n",
    "\n",
    "(d) How much lower is the above calculated cost in comparison to the total annual cost you would have obtained if you did not allow shortages (i.e., backorders)?"
   ]
  },
  {
   "cell_type": "code",
   "execution_count": 3,
   "id": "c1e6022e-67cb-4b61-b392-da612d9fed5f",
   "metadata": {},
   "outputs": [
    {
     "name": "stdout",
     "output_type": "stream",
     "text": [
      " (a) The optimal order quantity is = 2171\n",
      " (b) The optimal backorder quantity is = 796\n",
      " (c) The overall cost of this optimal policy is 201128199\n",
      "The overall cost of this policy without backorder is 201237653\n",
      " (d) The above calculated cost would be 109454 lower than the cost if shortages are not allowed\n"
     ]
    }
   ],
   "source": [
    "# Given data \n",
    "\n",
    "import numpy as np\n",
    "\n",
    "# Daily demand D = 500 tons\n",
    "# Annual Demand D * 365\n",
    "D = 500 * 365\n",
    "\n",
    "# Fixed cost (ordering cost) \n",
    "S = 2250\n",
    "\n",
    "# Holding cost rate \n",
    "i = 0.25\n",
    "\n",
    "c = 1100\n",
    "\n",
    "H = i * c\n",
    "\n",
    "# Backorder cost\n",
    "b = 475\n",
    "\n",
    "def EOQ(S, D, H):\n",
    "\n",
    "    if(S>0 and D>0 and H>0):\n",
    "\n",
    "        Q = round((np.sqrt((2*S*D)/H))*(np.sqrt((H+b)/b)))\n",
    "        B = round((np.sqrt((2*S*D)/b))*(np.sqrt(H/(H+b))))\n",
    "        C1 = (D*S)/Q\n",
    "        C2 = c * D \n",
    "        C3 = (((Q-B)**2)*H)/(2*Q)\n",
    "        C4 = ((B**2)*b)/(2*Q)\n",
    "        C5 = (H*Q)/2\n",
    "        OC1 = round(C1 + C2 + C3 + C4)\n",
    "        OC2 = round(C1 + C2 + C5)\n",
    "        diff = OC2 - OC1\n",
    "        print(' (a) The optimal order quantity is =', Q)\n",
    "        print(' (b) The optimal backorder quantity is =', B)\n",
    "        print(' (c) The overall cost of this optimal policy is',OC1)\n",
    "        print('The overall cost of this policy without backorder is',OC2)\n",
    "        print(' (d) The above calculated cost would be',diff,'lower than the cost if shortages are not allowed')\n",
    "EOQ(S,D,H)"
   ]
  },
  {
   "cell_type": "markdown",
   "id": "c7abde07-0a08-4623-b414-aa5322e400fc",
   "metadata": {},
   "source": [
    "# Q4]\n",
    "Consider the same question again. Suppose that instead of an auto manufacturer, you are managing the inventory of a retailer, where the implication of a shortage is a unit of lost sale. Assume all other parameters are the same: c = \\\\$1100, D = 500 tons per day, K = \\\\$2250 per order, i = 0.25 \\\\$/unit/year. For what value of the unit shortage penalty, p, would you decide to satisfy all demand using the EOQ policy?\n"
   ]
  },
  {
   "cell_type": "code",
   "execution_count": 4,
   "id": "cbef1572-037b-4351-bd3b-b438b268641f",
   "metadata": {},
   "outputs": [
    {
     "name": "stdout",
     "output_type": "stream",
     "text": [
      "The economic order quantity is 1728\n",
      "The value of the unit shortage penalty since the condition states that we need to satisfy all demand p > 1103\n"
     ]
    }
   ],
   "source": [
    "# Given data \n",
    "\n",
    "import numpy as np\n",
    "\n",
    "# Daily demand D = 500 tons\n",
    "# Annual Demand D * 365\n",
    "D = 500 * 365\n",
    "\n",
    "# Fixed cost (ordering cost) \n",
    "S = 2250\n",
    "\n",
    "# Holding cost rate \n",
    "i = 0.25\n",
    "c = 1100\n",
    "H = i * c\n",
    "\n",
    "# It is also given that we have to satisfy all of the demand, therefore x = 0\n",
    "# Therefore we will be using the condition D*(p-c) > np.sqrt(2*S*D*H), where the slope is positive C is increasing so it is optimal to set x*=0\n",
    "\n",
    "def EOQ(S, D, H):\n",
    "\n",
    "    if(S>0 and D>0 and H>0):\n",
    "\n",
    "        Q = round((np.sqrt(2*S*D/H)))\n",
    "        print('The economic order quantity is',Q)\n",
    "EOQ(S,D,H)    \n",
    "p = round(((np.sqrt(2*S*D*H))/D)+c)\n",
    "print('The value of the unit shortage penalty since the condition states that we need to satisfy all demand p >',p)"
   ]
  }
 ],
 "metadata": {
  "kernelspec": {
   "display_name": "Python 3 (ipykernel)",
   "language": "python",
   "name": "python3"
  },
  "language_info": {
   "codemirror_mode": {
    "name": "ipython",
    "version": 3
   },
   "file_extension": ".py",
   "mimetype": "text/x-python",
   "name": "python",
   "nbconvert_exporter": "python",
   "pygments_lexer": "ipython3",
   "version": "3.9.7"
  }
 },
 "nbformat": 4,
 "nbformat_minor": 5
}
