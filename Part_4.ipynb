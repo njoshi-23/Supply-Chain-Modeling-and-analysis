{
 "cells": [
  {
   "cell_type": "markdown",
   "id": "a7cbaabb-6bee-4b14-9a93-ee731bc98149",
   "metadata": {},
   "source": [
    "# IEE 534 MODULE 4 HW 1\n",
    "\n",
    "## Nikhil Joshi\n",
    "\n",
    "### 1219967502"
   ]
  },
  {
   "cell_type": "code",
   "execution_count": 14,
   "id": "27f41215-e63c-420e-b38f-216a2ef44e39",
   "metadata": {},
   "outputs": [],
   "source": [
    "import numpy as np\n",
    "from scipy.stats import norm\n",
    "import statistics\n",
    "import matplotlib.pyplot as plt\n",
    "import seaborn as sns\n",
    "%matplotlib inline"
   ]
  },
  {
   "cell_type": "markdown",
   "id": "023d4790-dafc-4177-9ad0-d77a0ee84b8f",
   "metadata": {},
   "source": [
    "## Q1] \n",
    "A large mining company plans to purchase 100 customized pneumatic rock-drills whose drilling tools break occasionally and need to be changed. Spare tools can be purchased at the time that the order is placed for \\\\$50 each, but will cost $170 if purchased at a later time since the tools are designed and manufactured according to the firm's specifications. It is estimated that the number of replacement drill tools required by a rock-drill over its useful lifetime can be approximated by a Normal distribution with mean 18 and standard deviation of 5.2. The supplier for the rock-drills agrees to buy back any unused drill tools for \\\\$20 each.\n",
    "\n",
    "(a) What is the cost of overage?\n",
    "\n",
    "(b) What is the cost of underage?"
   ]
  },
  {
   "cell_type": "code",
   "execution_count": 15,
   "id": "d047a096-7ab4-4448-b498-e58c14e80f59",
   "metadata": {},
   "outputs": [
    {
     "name": "stdout",
     "output_type": "stream",
     "text": [
      "unit cost of overage is 30\n",
      "unit cost of underage is 120\n"
     ]
    }
   ],
   "source": [
    "Q = 100  # Quantity (no. of drill tools required)\n",
    "v = 20   # salvage value \n",
    "c = 50   # unit cost  \n",
    "r = 170  # selling price\n",
    "\n",
    "u = 18    # Given mean \n",
    "std = 5.2 # Given standard deviation \n",
    "\n",
    "c_o = c - v  # cost of overage is c_o\n",
    "print('unit cost of overage is',c_o )\n",
    "c_u = r - c  # cost of underage is c_u\n",
    "print('unit cost of underage is',c_u)"
   ]
  },
  {
   "cell_type": "markdown",
   "id": "1db79b04-d151-402e-8b5f-0866f9ded88c",
   "metadata": {},
   "source": [
    "(c) What is the mean and standard deviation of demand for drill tools?"
   ]
  },
  {
   "cell_type": "code",
   "execution_count": 16,
   "id": "f99ad1b5-0429-4674-8231-350a95192055",
   "metadata": {},
   "outputs": [
    {
     "name": "stdout",
     "output_type": "stream",
     "text": [
      "The mean of demand of drill tools would be 1800\n",
      "The standard deviation of demand of drill tools would be 52.0\n"
     ]
    }
   ],
   "source": [
    "mean = u * Q\n",
    "stdev = std * np.sqrt(Q)\n",
    "print('The mean of demand of drill tools would be',mean)\n",
    "print('The standard deviation of demand of drill tools would be',stdev)"
   ]
  },
  {
   "cell_type": "markdown",
   "id": "e7de543c-1411-4571-a625-eaa54746015c",
   "metadata": {},
   "source": [
    "(d) How many spare drill tools should the company purchase with the rock-drills?"
   ]
  },
  {
   "cell_type": "code",
   "execution_count": 17,
   "id": "ff7bf0d3-bec5-4b66-ab77-314bc540064e",
   "metadata": {},
   "outputs": [
    {
     "name": "stdout",
     "output_type": "stream",
     "text": [
      "The critical ratio is 0.8\n",
      "The z value would be 0.8416212335729143\n",
      "The value of Q would be 1844\n"
     ]
    }
   ],
   "source": [
    "# Using the mean and std values which we calculate in the part c above\n",
    "\n",
    "cr = (c_u)/(c_o + c_u)\n",
    "print('The critical ratio is',cr)\n",
    "\n",
    "z = norm.ppf(cr)\n",
    "print('The z value would be',z)\n",
    "\n",
    "Q_str = round(stdev * z + mean)\n",
    "print('The value of Q would be',Q_str)"
   ]
  },
  {
   "cell_type": "code",
   "execution_count": 18,
   "id": "60249fa9-7fa9-4d14-9251-ff0ba43a7b36",
   "metadata": {},
   "outputs": [
    {
     "name": "stdout",
     "output_type": "stream",
     "text": [
      "The critical ratio is 0.8\n",
      "The z value would be 0.8416212335729143\n",
      "The value of Q would be 22\n"
     ]
    }
   ],
   "source": [
    "# Using the mean and std values which are provided in the question\n",
    "\n",
    "cr = (c_u)/(c_o + c_u)\n",
    "print('The critical ratio is',cr)\n",
    "\n",
    "z = norm.ppf(cr)\n",
    "print('The z value would be',z)\n",
    "\n",
    "Q_str = round(std * z + u)\n",
    "print('The value of Q would be',Q_str)"
   ]
  },
  {
   "cell_type": "markdown",
   "id": "2c9719ec-5183-477d-98ad-60c42cec62a8",
   "metadata": {},
   "source": [
    "## Q2] \n",
    "Irwin's sells a particular model of fan, with most of the sales being made in the summer months. Irwin's makes a one-time purchase of the fans prior to each summer session at a cost of \\\\$40.00 each and sells each fan for only $60.00. Any fans unsold at the end of the summer season are\n",
    "marked down to \\\\$29.00 and sold in a special fall sale. Virtually all marked down fans are sold. The following is the number of sales of fans during the past 10 summers: 30, 50, 30, 60, 10, 40, 30, 30, 20, 40.\n",
    "\n",
    "(a) Estimate the mean and variance of the demand for fans each summer."
   ]
  },
  {
   "cell_type": "code",
   "execution_count": 19,
   "id": "a338eb0f-f1e2-4df1-b0d6-c6d83f8c22e2",
   "metadata": {},
   "outputs": [
    {
     "name": "stdout",
     "output_type": "stream",
     "text": [
      "The mean is 34.0\n",
      "The variance is 204.44444444444446\n",
      "The standard deviation is 14.298407059684811\n",
      "The critical ratio would be 0.6451612903225806\n"
     ]
    }
   ],
   "source": [
    "FS = [30, 50, 30, 60, 10, 40, 30, 30, 20, 40] # let FS be sales of fans during the past 10 summers\n",
    "r2 = 60 # selling price\n",
    "c2 = 40 # unit price\n",
    "v2 = 29 # salvage value\n",
    "\n",
    "u2 = np.mean(FS)\n",
    "print('The mean is',u2)\n",
    "var2 = statistics.variance(FS)\n",
    "print('The variance is',var2)\n",
    "std2 = np.sqrt(var2)\n",
    "print('The standard deviation is',std2)\n",
    "\n",
    "c_o2 = c2 - v2\n",
    "c_u2 = r2 - c2\n",
    "cr2 = (c_u2)/(c_o2 + c_u2)\n",
    "print('The critical ratio would be',cr2)\n"
   ]
  },
  {
   "cell_type": "markdown",
   "id": "5a3dde43-bd0d-4d4e-9587-bec5350c5a2c",
   "metadata": {},
   "source": [
    "(b) Assume that the demand for fans each summer follows a Normal distribution, with mean and variance given by what you obtained in part (a). Determine the optimal number of fans for Irwin's to buy prior to each summer session."
   ]
  },
  {
   "cell_type": "code",
   "execution_count": 20,
   "id": "7b9fd33b-3f76-4725-985f-e265987053b5",
   "metadata": {},
   "outputs": [
    {
     "name": "stdout",
     "output_type": "stream",
     "text": [
      "The z value would be 0.37228936046519107\n",
      "The optimal value of Q would be 39\n"
     ]
    }
   ],
   "source": [
    "z2 = norm.ppf(cr2)\n",
    "print('The z value would be',z2)\n",
    "\n",
    "Q_str2 = round(std2 * z2 + u2)\n",
    "print('The optimal value of Q would be',Q_str2)"
   ]
  },
  {
   "cell_type": "markdown",
   "id": "b6692b67-888e-4b53-9e43-318e0751d11e",
   "metadata": {},
   "source": [
    "(c) Based on the observed 10 values of the prior demand, construct an empirical probability distribution of summer demand and determine the optimal number of fans for Irwin's to buy based on the empirical distribution. Hint: Plot the histogram for the data. To find the probability that the demand is a specific value divide the number of times that demand was observed by 10"
   ]
  },
  {
   "cell_type": "code",
   "execution_count": 21,
   "id": "275d9f23-0799-4669-8838-8765ce72abe3",
   "metadata": {},
   "outputs": [
    {
     "data": {
      "text/plain": [
       "Text(0.5, 1.0, 'Demand plot')"
      ]
     },
     "execution_count": 21,
     "metadata": {},
     "output_type": "execute_result"
    },
    {
     "data": {
      "image/png": "[encoded data removed]",
      "text/plain": [
       "<Figure size 360x360 with 1 Axes>"
      ]
     },
     "metadata": {
      "needs_background": "light"
     },
     "output_type": "display_data"
    }
   ],
   "source": [
    "sns.displot(FS)\n",
    "plt.xlabel('Demand')\n",
    "plt.ylabel('Prob')\n",
    "plt.title('Demand plot')"
   ]
  },
  {
   "cell_type": "code",
   "execution_count": 22,
   "id": "44dd5815-ba7c-4349-8305-20794a073892",
   "metadata": {},
   "outputs": [
    {
     "name": "stdout",
     "output_type": "stream",
     "text": [
      "\n",
      "demand : \n",
      " [10, 20, 30, 40, 50, 60]\n",
      "\n",
      "count : \n",
      " [1, 1, 4, 2, 1, 1]\n",
      "\n",
      "probability distribution : \n",
      " [0.1 0.1 0.4 0.2 0.1 0.1]\n",
      "\n",
      "cdf : \n",
      " [0.1, 0.2, 0.6, 0.8, 0.9, 1]\n",
      "\n"
     ]
    },
    {
     "data": {
      "image/png": "[encoded data removed]",
      "text/plain": [
       "<Figure size 432x288 with 1 Axes>"
      ]
     },
     "metadata": {
      "needs_background": "light"
     },
     "output_type": "display_data"
    }
   ],
   "source": [
    "demand = [10, 20, 30, 40, 50, 60] # let FS be sales of fans during the past 10 summers\n",
    "print (\"\\ndemand : \\n\", demand)\n",
    "count = [1, 1, 4, 2, 1, 1]\n",
    "print (\"\\ncount : \\n\", count)\n",
    "count_sum = 10\n",
    "prob_dist = np.divide(count, count_sum)\n",
    "print (\"\\nprobability distribution : \\n\", prob_dist)\n",
    "cdf = [0.1, 0.2, 0.6, 0.8, 0.9, 1]\n",
    "print (\"\\ncdf : \\n\", cdf)\n",
    "plt.plot(demand,cdf)\n",
    "plt.xlabel(\"demand\")\n",
    "plt.ylabel(\"cdf\")\n",
    "plt.title('CDF')\n",
    "print()"
   ]
  },
  {
   "cell_type": "code",
   "execution_count": 23,
   "id": "d8e5f93a-d636-4bcc-8bc6-57a9a14048bd",
   "metadata": {},
   "outputs": [
    {
     "data": {
      "text/plain": [
       "Text(0.5, 1.0, 'probability distribution')"
      ]
     },
     "execution_count": 23,
     "metadata": {},
     "output_type": "execute_result"
    },
    {
     "data": {
      "image/png": "[encoded data removed]",
      "text/plain": [
       "<Figure size 432x288 with 1 Axes>"
      ]
     },
     "metadata": {
      "needs_background": "light"
     },
     "output_type": "display_data"
    }
   ],
   "source": [
    "plt.plot([0.1, 0.1, 0.4, 0.2, 0.1, 0.1])\n",
    "plt.title('probability distribution')"
   ]
  },
  {
   "cell_type": "markdown",
   "id": "93018bab-09a8-4176-ac98-687c74c26103",
   "metadata": {},
   "source": [
    "By observing the graph of CDF and Demand, we can conclude that mean demand is between 30 and 40, and can be taken around 35 after plotting y axis "
   ]
  },
  {
   "cell_type": "markdown",
   "id": "13a5e51f-0e45-498f-b349-993db796a3c0",
   "metadata": {},
   "source": [
    "(d) Based on your results for parts (b) and (c), would you say that the Normal distribution provides an adequate approximation?\n",
    "\n",
    "Yes, based on the results for (b) and (c), we can say that the Normal distrbution provides an adequate approximation. "
   ]
  },
  {
   "cell_type": "markdown",
   "id": "11d5d81d-9fe2-40ea-8523-edd4080e4b2c",
   "metadata": {
    "tags": []
   },
   "source": [
    "## Q3]\n",
    "Sales of ski equipment and apparel depend heavily on snow conditions. The Ski Bum, a small discount retailer of ski equipment near some of the large ski areas of New Hampshire and Vermont, faces the difficult task of ordering a particular line of ski gloves in the month of May, well before the ski season begins. The selling price for these gloves is \\\\$50.30 per pair, while the cost to the retailer is only $35.10. To make sure that no customers go bare handed,\" the retailer buys additional gloves from competitors at their retail price of \\\\$60 if his original inventory is not sufficient. Gloves left over at the end of the short selling season are sold at a special discount price of \\\\$25 per pair.\n",
    "\n",
    "(a) The owner and manager of the store assumes that demand is approximately normallydistributed with a mean of 900 gloves and a standard deviation of 122 gloves. Calculate the optimal ordering quantity for the season."
   ]
  },
  {
   "cell_type": "code",
   "execution_count": 24,
   "id": "4481046a-3828-4df4-9e15-f4d4cc0fd9a5",
   "metadata": {},
   "outputs": [
    {
     "name": "stdout",
     "output_type": "stream",
     "text": [
      "unit cost of overage is 10.100000000000001\n",
      "unit cost of underage is 24.9\n",
      "The critical ratio would be 0.7114285714285714\n",
      "The z value would be 0.5575629573306148\n",
      "The value of Q would be 968\n"
     ]
    }
   ],
   "source": [
    "r3 = 50.30   # selling price \n",
    "c3 = 35.10   # unit price\n",
    "v3 = 25      # salvage value\n",
    "d3 = 60      # additional purchase cost after depletion \n",
    "u3 = 900     # mean of gloves\n",
    "stdev3 = 122 # standard deviation of gloves\n",
    "\n",
    "c_o3 = c3 - v3                        # cost of overage is c_o3\n",
    "print('unit cost of overage is',c_o3 )\n",
    "c_u3 = (r3 - c3) + (d3 - r3)          # cost of underage is c_u3\n",
    "print('unit cost of underage is',c_u3)\n",
    "\n",
    "cr3 = (c_u3)/(c_o3 + c_u3)            # Critical ratio \n",
    "print('The critical ratio would be',cr3)\n",
    "\n",
    "z3 = norm.ppf(cr3)                    # z-value\n",
    "print('The z value would be',z3)\n",
    "\n",
    "Q_str3 = round(stdev3 * z3 + u3)      # optimal ordering quantity\n",
    "print('The value of Q would be',Q_str3)"
   ]
  },
  {
   "cell_type": "markdown",
   "id": "fea6a7ea-b589-472e-a214-5f9631ed9981",
   "metadata": {},
   "source": [
    "(b) Calculate the optimal ordering quantity if the sales of the gloves were equally likely to be anywhere from 600 to 1200 during the season. Recalculate the optimal ordering quantity in this case and explain the difference."
   ]
  },
  {
   "cell_type": "code",
   "execution_count": 25,
   "id": "5bd0f63d-ff04-4ded-8874-75e00a388c6f",
   "metadata": {},
   "outputs": [
    {
     "name": "stdout",
     "output_type": "stream",
     "text": [
      "The optimal ordering quantity in this case would be 1027\n"
     ]
    }
   ],
   "source": [
    "# Given \n",
    "a = 600   # Given quantity low level\n",
    "b = 1200  # Given quantity high level\n",
    "\n",
    "Q_str4 = round((cr3 * (b-a) + a )) \n",
    "print('The optimal ordering quantity in this case would be',Q_str4)"
   ]
  },
  {
   "cell_type": "markdown",
   "id": "a35e4d55-0da0-4ee3-a6de-8217012679f6",
   "metadata": {},
   "source": [
    "(c) If Ski Bum wishes to ensure a 95% in-stock probability (i.e., Type-I service level): i. How many gloves should the company order? (Assume, again, that demand is normally distributed with a mean of 900 gloves and a standard deviation of 122 gloves.) ii. What is the implicit underage cost that one is supposing in this case?"
   ]
  },
  {
   "cell_type": "markdown",
   "id": "9bd389da-f086-463e-b83b-d7915c2173c6",
   "metadata": {},
   "source": [
    "Q* at Type 1 service Level of α = 0.95 in stock period \n",
    "\n",
    "We know CDF F(Q*) = Critical Ratio = α\n",
    "\n",
    "Critical Value F(Q*) = 0.95\n",
    "\n",
    "z-value from standard normal table = 1.64"
   ]
  },
  {
   "cell_type": "code",
   "execution_count": 26,
   "id": "6f345d89-1d95-49f4-b585-11835d756599",
   "metadata": {},
   "outputs": [
    {
     "name": "stdout",
     "output_type": "stream",
     "text": [
      "The value of Q would be 1100\n",
      "The implicit underage cost would be 191.90000000000003\n"
     ]
    }
   ],
   "source": [
    "z5 = 1.64                               # Z value\n",
    "Q_str5 = round(stdev3 * z5 + u3)        # Optimal ordering quantity\n",
    "print('The value of Q would be',Q_str5)\n",
    "\n",
    "# If α is 0.95 then CU = 19*CO\n",
    "c_u5 = 19*c_o3\n",
    "print('The implicit underage cost would be',c_u5)\n"
   ]
  }
 ],
 "metadata": {
  "kernelspec": {
   "display_name": "Python 3 (ipykernel)",
   "language": "python",
   "name": "python3"
  },
  "language_info": {
   "codemirror_mode": {
    "name": "ipython",
    "version": 3
   },
   "file_extension": ".py",
   "mimetype": "text/x-python",
   "name": "python",
   "nbconvert_exporter": "python",
   "pygments_lexer": "ipython3",
   "version": "3.9.7"
  }
 },
 "nbformat": 4,
 "nbformat_minor": 5
}
