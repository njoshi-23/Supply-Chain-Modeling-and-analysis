{
 "cells": [
  {
   "cell_type": "markdown",
   "id": "e20e22a3",
   "metadata": {},
   "source": [
    "### Q1]  \n",
    "Write-EZ ballpoint pens at the campus bookstore are sold at a fairly steady rate of 75 per week. The ballpoint pens cost \\\\$1.50 each. Initiating an order costs the bookstore \\\\$20.00 and holding costs are based on an annual interest rate of 20%.\n",
    "\n",
    "(a) Determine the economic order quantity for the ballpoint pens and the frequency of ordering."
   ]
  },
  {
   "cell_type": "markdown",
   "id": "c89b28a2",
   "metadata": {},
   "source": [
    "- Q = optimal ordering quantity\n",
    "- D = Annual quantity demanded\n",
    "- S = Ordering cost (fixed cost)\n",
    "- H = Holding cost per unit (variable cost)\n",
    "- i = carrying cost (interest rate)\n",
    "- c = unit cost (variable cost)\n",
    "\n",
    "Where H = i * c = 1.5 * 0.2 = 0.3"
   ]
  },
  {
   "cell_type": "code",
   "execution_count": 10,
   "id": "821be5f0",
   "metadata": {},
   "outputs": [
    {
     "name": "stdout",
     "output_type": "stream",
     "text": [
      "The economic order quantity is = 721\n",
      "The frequency of ordering is= 5.41 years or 1974.65 days\n",
      "Annual ordering cost=$ 108.18307905686547\n",
      "Annual holding cost=$ 108.14999999999999\n",
      "Annual total cost=$ 216.33307905686547\n"
     ]
    }
   ],
   "source": [
    "import numpy as np\n",
    "\n",
    "def EOQ(S, D, H):\n",
    "\n",
    "    if(S>0 and D>0 and H>0):\n",
    "\n",
    "        Q1 = round((np.sqrt(2*S*D/H)))\n",
    "        freq_of_ordering = round(D/Q1,2)\n",
    "        AOC = D*S/Q1\n",
    "        AHC = Q1*H/2\n",
    "        ATC = AOC+AHC\n",
    "        \n",
    "        print('The economic order quantity is =', Q1)\n",
    "        print('The frequency of ordering is=',freq_of_ordering,'years or',freq_of_ordering*365,'days')\n",
    "        print('Annual ordering cost=$',AOC)\n",
    "        print('Annual holding cost=$',AHC)\n",
    "        print('Annual total cost=$',ATC)\n",
    "        \n",
    "EOQ(20,3900,0.3)\n"
   ]
  },
  {
   "cell_type": "markdown",
   "id": "e7fddf44",
   "metadata": {},
   "source": [
    "(b) If the bookstore wants to keep the number of orders per year below 4 what should the order size be?\n",
    "Frequency of ordering is 20, and demand is 3900, but if the store wants to keep the number of orders per year below 4, \n",
    "freq_of_ordering = 4"
   ]
  },
  {
   "cell_type": "code",
   "execution_count": 28,
   "id": "80aa9362",
   "metadata": {},
   "outputs": [
    {
     "name": "stdout",
     "output_type": "stream",
     "text": [
      "The order size should be 975.0\n"
     ]
    }
   ],
   "source": [
    "freq_of_ordering = 4\n",
    "D = 3900\n",
    "Q2 = D/freq_of_ordering\n",
    "print('The order size should be',Q2)"
   ]
  },
  {
   "cell_type": "markdown",
   "id": "5b4eae6f",
   "metadata": {},
   "source": [
    "(c) What is the range of values for the fixed setup cost, A, for which the EOQ you found in part (a) would be preferable (in terms of setup and holding costs) to the order quantity you found in part (b)?\n",
    "\n",
    "Q = (np.sqrt(2*S*D/H))"
   ]
  },
  {
   "cell_type": "code",
   "execution_count": 13,
   "id": "7cc48426",
   "metadata": {},
   "outputs": [
    {
     "name": "stdout",
     "output_type": "stream",
     "text": [
      "The holding cost is = $ 0.16\n"
     ]
    }
   ],
   "source": [
    "Q = 721 # EoQ found in part (a)\n",
    "S = 20\n",
    "D = 3900\n",
    "H = round((2*3900*20)/(Q**2),2)\n",
    "print('The holding cost is = $', H)"
   ]
  },
  {
   "cell_type": "markdown",
   "id": "669b8f7d",
   "metadata": {},
   "source": [
    "Therefore the range of holding costs is \\\\$0.16 to \\\\$0.2, hence it is better to order 4 times"
   ]
  },
  {
   "cell_type": "markdown",
   "id": "edf5d163",
   "metadata": {},
   "source": [
    "### Q2] \n",
    "An auto manufacturer uses 500 tons of steel per day. The company pays \\\\$1,100 per ton of steel purchased, and each order incurs a fixed cost of \\\\$2,250. The holding cost is \\\\$275 per ton of steel per year.\n",
    "\n",
    "(a) Using the EOQ model, calculate the optimal order quantity\n",
    "\n",
    "- D = Demand = 500 tons per day = 500 * 365 = 182500 per year\n",
    "- c = cost of each unit = \\$1100\n",
    "- S = fixed cost = \\$2250\n",
    "- H = holding cost per unit = \\$275 per ton per year = 275/365 = \\\\$0.75 per day\n",
    "- i = H/c = 0.25"
   ]
  },
  {
   "cell_type": "code",
   "execution_count": 2,
   "id": "320c1cb9",
   "metadata": {},
   "outputs": [
    {
     "name": "stdout",
     "output_type": "stream",
     "text": [
      "The economic order quantity is = 1728\n"
     ]
    }
   ],
   "source": [
    "import numpy as np\n",
    "\n",
    "def EOQ(S, D, H):\n",
    "\n",
    "    if(S>0 and D>0 and H>0):\n",
    "\n",
    "        Q1 = round((np.sqrt(2*S*D/H)))\n",
    "        freq_of_ordering = round(D/Q1,2)\n",
    "        AOC = D*S/Q1\n",
    "        AHC = Q1*H/2\n",
    "        ATC = AOC+AHC\n",
    "        \n",
    "        print('The economic order quantity is =', Q1)\n",
    "        \n",
    "EOQ(2250,182500,275)"
   ]
  },
  {
   "cell_type": "markdown",
   "id": "e149e022",
   "metadata": {},
   "source": [
    "(b) What is the optimal reorder interval that corresponds to the above order quantity?"
   ]
  },
  {
   "cell_type": "code",
   "execution_count": 7,
   "id": "190b08b2",
   "metadata": {},
   "outputs": [
    {
     "name": "stdout",
     "output_type": "stream",
     "text": [
      "The reorder interval is approximately 3 days\n"
     ]
    }
   ],
   "source": [
    "import numpy as np\n",
    "def RO(S, D, H):\n",
    "    R = round(np.sqrt((2*S)/(D*H)))\n",
    "    print('The reorder interval is approximately',R,'days')\n",
    "RO(2250,500,0.75)"
   ]
  },
  {
   "cell_type": "markdown",
   "id": "50e2ee01",
   "metadata": {},
   "source": [
    "(c)  What is the average total cost per year that the company would incur if they use the EOQ?"
   ]
  },
  {
   "cell_type": "code",
   "execution_count": 4,
   "id": "87a717c9",
   "metadata": {},
   "outputs": [
    {
     "name": "stdout",
     "output_type": "stream",
     "text": [
      "The average total cost per year at EOQ would be $ 201225230\n"
     ]
    }
   ],
   "source": [
    "import numpy as np\n",
    "def TC(S,D,i,c):\n",
    "    C = round(np.sqrt(2*S*D*i*c) + c*D)\n",
    "    print('The average total cost per year at EOQ would be $',C)\n",
    "    \n",
    "TC(2250,182500,0.25,1100)\n",
    "    "
   ]
  },
  {
   "cell_type": "markdown",
   "id": "b2140e38",
   "metadata": {},
   "source": [
    "(d) Now suppose that the supplier can only supply the steel in increments of 3000 tons. What order quantity should the company use and how much more does that cost them in total inventory costs annually?\n",
    "\n",
    "The new order quantity would be 3000"
   ]
  },
  {
   "cell_type": "code",
   "execution_count": 16,
   "id": "ebe78434",
   "metadata": {},
   "outputs": [
    {
     "name": "stdout",
     "output_type": "stream",
     "text": [
      "The order quantity would be 3000 and it would cost $ 174350.0\n"
     ]
    }
   ],
   "source": [
    "Qn = 3000\n",
    "def H(Q,i,c):\n",
    "    holding_cost_1 = (i*c*Q)*0.5\n",
    "    holding_cost_2 = (i*c*Qn)*0.5\n",
    "    Diff = (holding_cost_2 - holding_cost_1)\n",
    "    print('The order quantity would be', Qn,'and it would cost $',Diff)\n",
    "H(1732,0.25,1100)"
   ]
  },
  {
   "cell_type": "markdown",
   "id": "76e77e30",
   "metadata": {},
   "source": [
    "(e) Now suppose that the suppler can supply in any quantity as long as it is above 2000 tons. What order quantity should the company use in this case? How much more is the total cost in this case in comparison to using the EOQ value?\n",
    "\n",
    "let the new quantity be 3000, which is greater than 2000"
   ]
  },
  {
   "cell_type": "code",
   "execution_count": 7,
   "id": "bbdf032b",
   "metadata": {},
   "outputs": [
    {
     "name": "stdout",
     "output_type": "stream",
     "text": [
      "The order quantity could be 2001 and it would cost 5115.986276477575\n"
     ]
    }
   ],
   "source": [
    "Qn1 = 2001\n",
    "def TotalC(S,D,i,c,Q):\n",
    "    C1=(i*c*Q*0.5)+(S*D)/Q + (c*D)\n",
    "    C2=(i*c*Qn1*0.5)+(S*D)/Qn1 + (c*D)\n",
    "    diff = C2 - C1\n",
    "    print('The order quantity could be',Qn1,'and it would cost',diff)\n",
    "TotalC(2250,182500,0.25,1100,1732)"
   ]
  },
  {
   "cell_type": "markdown",
   "id": "3018adb7",
   "metadata": {},
   "source": [
    "(f) Now suppose that the company decided that they can only deliver every other week, on Mondays since one of their drivers quit the job. Note that this means that the smallest delivery interval that they can promise is 14 days. How much of a discount should you ask for in the fixed order cost that the supplier charges you so that you would incur the\n",
    "cost of EOQ policy"
   ]
  },
  {
   "cell_type": "code",
   "execution_count": 9,
   "id": "dcc3988c",
   "metadata": {},
   "outputs": [
    {
     "name": "stdout",
     "output_type": "stream",
     "text": [
      "The order quantity at t=14 days is 7000\n",
      "The new Setup cost is -18690\n",
      "Discount needed for setup cost is 931 %\n"
     ]
    }
   ],
   "source": [
    "# To find Order quantity considering delivery interval as 14 days or 14/365 years\n",
    "\n",
    "D = 182500\n",
    "c = 1100\n",
    "H = 275\n",
    "S = 2250\n",
    "Totcost = 201225230\n",
    "t = 14/365\n",
    "Qf = round(t*D)\n",
    "print('The order quantity at t=14 days is',Qf)\n",
    "\n",
    "S_new = round((Totcost - (c*D) -(0.5*H*Qf))*(Qf/D))\n",
    "print(\"The new Setup cost is\",S_new)\n",
    "\n",
    "discount = round(100*((S-S_new)/S))\n",
    "print(\"Discount needed for setup cost is\",discount,\"%\")\n"
   ]
  },
  {
   "cell_type": "markdown",
   "id": "f3fd8f1b",
   "metadata": {},
   "source": [
    "## Q3\n",
    "(Make or Buy?) Bell Computer is considering to subcontract the production of a motherboard that is used in one of the company’s popular computers to an overseas company. Hence, they need the help of an ASU IE graduate to compare the annual costs of two options: produce internally or buy from the overseas company. The annual demand for the motherboards is\n",
    "30,000 units, and the operations of Bell Computer cannot tolerate any shortages. The holding costs are based on a 25% annual interest rate.\n",
    "\n",
    "- D = Demand = 30000 units per year\n",
    "- S = Setup cost = \\$980 \n",
    "- c = unit cost = \\$75\n",
    "- i = interest rate = 25 % = 0.25\n",
    "- P = production rate = 50000 per year\n",
    "\n",
    "(a)\n",
    "(i) Calculate the economic production lot size for the internal production option"
   ]
  },
  {
   "cell_type": "code",
   "execution_count": 34,
   "id": "c6bafbb1",
   "metadata": {},
   "outputs": [
    {
     "name": "stdout",
     "output_type": "stream",
     "text": [
      "Economic production line is 2800.0\n"
     ]
    }
   ],
   "source": [
    "import numpy as np\n",
    "D = 30000\n",
    "S = 980\n",
    "i = 0.25\n",
    "c = 75\n",
    "P = 50000\n",
    "def EPL(S,D,i,c,P):\n",
    "    epl=np.sqrt((2*S*D)/((i*c)*(1-(D/P))))\n",
    "    print('Economic production line is',epl)\n",
    "EPL(S,D,i,c,P)"
   ]
  },
  {
   "cell_type": "markdown",
   "id": "0e9ed6ee",
   "metadata": {},
   "source": [
    "(ii)  What is the length (i.e., duration) of each production run?"
   ]
  },
  {
   "cell_type": "code",
   "execution_count": 36,
   "id": "99ede564",
   "metadata": {},
   "outputs": [
    {
     "name": "stdout",
     "output_type": "stream",
     "text": [
      "Length of Production run is 0.056 years or 20.44 days\n"
     ]
    }
   ],
   "source": [
    "EPL = 2800\n",
    "P = 50000\n",
    "T1= EPL/P\n",
    "print('Length of Production run is',T1,'years or',T1*365, 'days')\n"
   ]
  },
  {
   "cell_type": "markdown",
   "id": "7a57c777",
   "metadata": {},
   "source": [
    "(iii)  Determine the total annual cost (including annual production costs) if Bell Computer produces the motherboards internally.\n"
   ]
  },
  {
   "cell_type": "code",
   "execution_count": 37,
   "id": "e558d4da",
   "metadata": {},
   "outputs": [
    {
     "name": "stdout",
     "output_type": "stream",
     "text": [
      "Total cost at EPL is 2271000.0\n"
     ]
    }
   ],
   "source": [
    "D = 30000\n",
    "S = 980\n",
    "i = 0.25\n",
    "c = 75\n",
    "P = 50000\n",
    "EPL = 2800\n",
    "TC_EPL = (S*D)/EPL + c*D + i*c*EPL*(1-(D/P))*0.5\n",
    "print(\"Total cost at EPL is\", TC_EPL)\n"
   ]
  },
  {
   "cell_type": "markdown",
   "id": "064b060c",
   "metadata": {},
   "source": [
    "(b) If the motherboards are bought from the overseas company, it will cost \\\\$ 250 each time an order is placed. The overseas company charges \\\\$125 for each motherboard, but they do promise immediate deliveries\n",
    "\n",
    "(i) Calculate the economic order quantity for the subcontracting option."
   ]
  },
  {
   "cell_type": "code",
   "execution_count": 41,
   "id": "4a53126e",
   "metadata": {},
   "outputs": [
    {
     "name": "stdout",
     "output_type": "stream",
     "text": [
      "Economic order quantity for the subcontracting option is 692.8203230275509\n"
     ]
    }
   ],
   "source": [
    "import numpy as np\n",
    "S = 250\n",
    "c = 125\n",
    "D = 30000\n",
    "i = 0.25\n",
    "def EOQ(K,D,i,c):\n",
    "    Qsc = np.sqrt(2*S*D/(i*c))\n",
    "    print(\"Economic order quantity for the subcontracting option is\", Qsc)\n",
    "\n",
    "EOQ(S,D,i,c)\n",
    "\n"
   ]
  },
  {
   "cell_type": "markdown",
   "id": "3fa6a5ce",
   "metadata": {},
   "source": [
    "(ii)  Determine the total annual cost in this case."
   ]
  },
  {
   "cell_type": "code",
   "execution_count": 42,
   "id": "87e2a450",
   "metadata": {},
   "outputs": [
    {
     "name": "stdout",
     "output_type": "stream",
     "text": [
      "Total annual cost at EOQ is 3771651\n"
     ]
    }
   ],
   "source": [
    "import numpy as np\n",
    "S = 250\n",
    "c = 125\n",
    "D = 30000\n",
    "i = 0.25\n",
    "def TC_EOQ(S,D,i,c):\n",
    "    TaC = round(np.sqrt(2*S*D*i*c) + c*D)\n",
    "    print(\"Total annual cost at EOQ is\", TaC)\n",
    "    \n",
    "TC_EOQ(S,D,i,c)"
   ]
  },
  {
   "cell_type": "markdown",
   "id": "e9cff631",
   "metadata": {},
   "source": [
    "(c) Based on your findings above, should Bell Computer make or buy the motherboard?\n",
    "\n",
    "from observation, Total annual cost at EOQ is greater than total cost at economic production line. Therefore in-house production is better"
   ]
  }
 ],
 "metadata": {
  "kernelspec": {
   "display_name": "Python 3 (ipykernel)",
   "language": "python",
   "name": "python3"
  },
  "language_info": {
   "codemirror_mode": {
    "name": "ipython",
    "version": 3
   },
   "file_extension": ".py",
   "mimetype": "text/x-python",
   "name": "python",
   "nbconvert_exporter": "python",
   "pygments_lexer": "ipython3",
   "version": "3.9.7"
  }
 },
 "nbformat": 4,
 "nbformat_minor": 5
}
