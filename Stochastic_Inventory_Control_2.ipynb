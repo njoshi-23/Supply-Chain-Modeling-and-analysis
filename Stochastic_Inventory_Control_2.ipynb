{
 "cells": [
  {
   "cell_type": "code",
   "execution_count": 1,
   "id": "43a70f73-ab51-4357-a3f2-5b963b13046e",
   "metadata": {},
   "outputs": [],
   "source": [
    "import math\n",
    "import numpy as np\n",
    "from scipy.stats import norm\n",
    "import scipy.stats as st\n",
    "import matplotlib.pyplot as plt \n",
    "import seaborn as sb\n",
    "import statistics"
   ]
  },
  {
   "cell_type": "markdown",
   "id": "ea1ef6f0-5519-4ae8-b2a7-377ffe55c17e",
   "metadata": {},
   "source": [
    "# Q1]\n",
    "The owner of Kwik-Print, Jack Proftts, orders once paper for the photocopy machines in his shop. Demand for paper in the shop is approximately 30 packages per week, but it is quite variable (i.e., it is appropriate to use the Poisson distribution to model the demand). Mr. Proffts has just recently read an article about the (Q;R) policy, and would like to use it to control stock levels of paper in Kwik-Print. Each package of paper costs \\\\$4.00, but no information is available on the ordering and stockout/backorder costs. The replenishment lead time is one week.\n",
    "\n",
    "-----|-----||\n",
    "-----|-----|----- \n",
    "Demand rate 'D' units per unit time.|Setup cost at 'K' dollars per positive order placed|\n",
    "Purchase cost at 'c' dollars per unit ordered.|Holding cost at 'h' dollars per unit held per unit time.|\n",
    "Annual interest rate 'i' %|Major setup cost 'A' dollars per unit ordered|\n",
    "mean and 'sd' standard deviation of normal distribution|Salvage value 'v' dollars per unit purchased|\n",
    "Later cost 'r' for purchasing item|Replenishment lead time 'Lt' for purchased item|\n",
    "Expeceted mean demand 'u' for the item|"
   ]
  },
  {
   "cell_type": "markdown",
   "id": "0843d0ee-7ca4-4e40-a855-7a1ee3e6909f",
   "metadata": {},
   "source": [
    "(a) Although Mr. Proftts does not know the ordering costs, he knows that he does not want to order more than once every two weeks (26 orders/year). What order size should he use?"
   ]
  },
  {
   "cell_type": "code",
   "execution_count": 2,
   "id": "a379bf91-b295-4efd-8866-481c502115a1",
   "metadata": {},
   "outputs": [
    {
     "name": "stdout",
     "output_type": "stream",
     "text": [
      "Order size should be greater  than or equal to 60.0 units per year\n"
     ]
    }
   ],
   "source": [
    "u=30             # mean\n",
    "c=4              # purchase cost\n",
    "Lt=1             # replenishment time\n",
    "N=26             # Number of orders / yr\n",
    "std=math.sqrt(u)\n",
    "Q=(u*52)/26\n",
    "\n",
    "print('Order size should be greater  than or equal to', Q,'units per year')"
   ]
  },
  {
   "cell_type": "markdown",
   "id": "137214f0-a94c-4b8d-8124-d08cdc0343ce",
   "metadata": {},
   "source": [
    "(b) How much safety stock does he have to carry in order to ensure a 98% fill rate?"
   ]
  },
  {
   "cell_type": "code",
   "execution_count": 3,
   "id": "b8070abc-1ea5-4898-8e64-916229baceda",
   "metadata": {},
   "outputs": [
    {
     "name": "stdout",
     "output_type": "stream",
     "text": [
      "L_z = 0.21908902300206665\n",
      "\n",
      "Reorder level is  32\n",
      "\n",
      "Safety stock to ensure 0.98 fill rate is 2 units\n",
      "\n"
     ]
    }
   ],
   "source": [
    "beta=0.98           # Type II service            \n",
    "n_R=(1-beta)*Q      # Expected number of stockouts per unit time\n",
    "L_z=n_R/std         # To find z\n",
    "z=0.43              # From standard normal tables for L_z\n",
    "R=round(std*z + u)  # Reorder level\n",
    "S=R-u               # Safety stock\n",
    "\n",
    "print(\"L_z =\",L_z)\n",
    "print('\\nReorder level is ', R)\n",
    "print('\\nSafety stock to ensure 0.98 fill rate is',round(S),'units')\n",
    "print()"
   ]
  },
  {
   "cell_type": "markdown",
   "id": "0234469c-a14f-4896-b13b-e84c9abd9c6e",
   "metadata": {},
   "source": [
    "(c) Suppose he decided that he can make a weekly order (52 orders/year) rather than once every two weeks. How does Q and r change?"
   ]
  },
  {
   "cell_type": "code",
   "execution_count": 4,
   "id": "45fabf84-6311-43c4-be85-fdfa00cab995",
   "metadata": {},
   "outputs": [
    {
     "name": "stdout",
     "output_type": "stream",
     "text": [
      "The order quantity Q =  30.0 units is reduced by half and r=1 for making weekely orders instead of once every two weeks\n",
      "\n",
      "L_z 0.10954451150103332\n",
      "\n",
      "Reorder level is  35\n",
      "\n",
      "Safety stock for reduced order quantity is  5 units\n"
     ]
    }
   ],
   "source": [
    "D=30*52             # mean demand per year\n",
    "N=52                # orders per year\n",
    "Q1=D/N              # Order quantity\n",
    "beta=0.98           # for the same fraction of demand met Type II service    \n",
    "n_R1=(1-beta)*Q1    # Expected no. of stockouts per unit time\n",
    "L_z=n_R1/std        # To find z through std loss function\n",
    "z=0.85              # From standard normal tables for L_z\n",
    "R1=round(std*z + u) # Reorder level\n",
    "S1=R1-u             # Safety stock\n",
    "\n",
    "print(\"The order quantity Q = \",Q1, \"units is reduced by half and r=1 for making weekely orders instead of once every two weeks\")\n",
    "print(\"\\nL_z\",L_z)\n",
    "print('\\nReorder level is ', R1)\n",
    "print('\\nSafety stock for reduced order quantity is ',round(S1),'units')"
   ]
  },
  {
   "cell_type": "markdown",
   "id": "6c6a23b2-4375-4949-8196-c5ad7e344067",
   "metadata": {},
   "source": [
    "# Q2]\n",
    "A high-tech manufacturing company in Hong Kong called HK is purchasing color displays to be used in its digital video recorders. The displays are coming from north of China and it takes 3 weeks to receive any order from the vendor. The weekly demand of displays is approximately normally distributed with mean of 38 and a variance of 130. Each display costs \\\\$18.80 and there is an ordering cost of \\\\$75 regardless of the size of the order. The company uses a stock-out cost of \\\\$400 per display and 40% of annual interest rate is used to compute holding costs. HK works 52 weeks in a year."
   ]
  },
  {
   "cell_type": "markdown",
   "id": "257252aa-32e7-467c-a6c8-65a71f2493c0",
   "metadata": {},
   "source": [
    "(a) Compute the mean and variance of demand during lead time."
   ]
  },
  {
   "cell_type": "code",
   "execution_count": 5,
   "id": "b19a65ea-cc80-4c3b-b079-e201e015a368",
   "metadata": {},
   "outputs": [
    {
     "name": "stdout",
     "output_type": "stream",
     "text": [
      "The mean during lead time is 114\n",
      "\n",
      "The variance during lead time is 390\n",
      "\n",
      "The standard deviation during lead time is 19.748417658131498\n",
      "\n"
     ]
    }
   ],
   "source": [
    "Lt=3                 # replenishment time\n",
    "d=38                 # mean demand per week\n",
    "d_v=130              # variance of demand per week\n",
    "c=18.80              # Purchase cost\n",
    "K=75                 # setup cost\n",
    "p=400                # stock-out cost\n",
    "i=0.4                # annual interest rate\n",
    "u2=d*Lt              # Mean of demand during lead time\n",
    "var = d_v*Lt         # Variance of demand during lead time\n",
    "std2 = np.sqrt(var)  # Standard deviation of demand during lead time\n",
    "\n",
    "print(\"The mean during lead time is\", u2)\n",
    "print(\"\\nThe variance during lead time is\", var)\n",
    "print(\"\\nThe standard deviation during lead time is\", std2)\n",
    "print()"
   ]
  },
  {
   "cell_type": "markdown",
   "id": "04a9e369-d8f3-4c16-be14-28cf3a9e50fb",
   "metadata": {},
   "source": [
    "(b) HK currently orders in lots of 500 units. What should be the reorder point?"
   ]
  },
  {
   "cell_type": "code",
   "execution_count": 6,
   "id": "67afcc1c-368e-447a-af1e-a35709c8d977",
   "metadata": {},
   "outputs": [
    {
     "name": "stdout",
     "output_type": "stream",
     "text": [
      "F(R1) and z for the order quantity of 500 units is F(R1)= 0.9952 and z= 2.59\n",
      "\n",
      "Reorder point for orders of 500 units is  165.1484017345606\n",
      "\n"
     ]
    }
   ],
   "source": [
    "Q=500\n",
    "x=52                               # HK works 52 weeks in a year\n",
    "FR1=round(1-((Q*i*c)/(p*d*x)), 4)  # To find z \n",
    "z1=round(st.norm.ppf(FR1), 2) \n",
    "R1=std2 * z1 + u2                  # Reorder point\n",
    "print(\"F(R1) and z for the order quantity of 500 units is F(R1)=\",FR1,\"and z=\",z1)\n",
    "print('\\nReorder point for orders of 500 units is ', R1)\n",
    "print()"
   ]
  },
  {
   "cell_type": "markdown",
   "id": "8f521517-a3e7-4938-b70f-1131a6128a89",
   "metadata": {},
   "source": [
    "(c) If HK wants to rearrange the contract with the vendor to minimize costs, what should be the new order size? i. What is the corresponding optimal reorder point? (Do at most two iterations to find the optimal Q;R values) ii. What is the safety stock level corresponding to the (Q;R) policy in part (i)?"
   ]
  },
  {
   "cell_type": "code",
   "execution_count": 7,
   "id": "166a5d89-5bc0-4acd-b3b0-d971ae9ab4fb",
   "metadata": {},
   "outputs": [
    {
     "name": "stdout",
     "output_type": "stream",
     "text": [
      "expected shortage n(R1) is 0.0296\n",
      "\n",
      "optimal order point in Interation1 is 213.6286298447886\n",
      "\n",
      "F(R2)= 0.998  and tz= 2.88\n",
      "\n",
      "Reorder point in Iteration1 is  170.87544285541873\n",
      "\n",
      "expected shortage n(R2) is 0.0118\n",
      "\n",
      "optimal order point in Interation2 is 204.68366875576356\n",
      "\n",
      "Safety stock stock level for (Q,R) is  57 units\n",
      "\n"
     ]
    }
   ],
   "source": [
    "#Iteration1, and from part 2(b)\n",
    "z1 = 2.59\n",
    "Lz = 0.0015                            # from standard normal table\n",
    "nR1=round((std2*Lz),4)                 # Expected shortage\n",
    "Q1=math.sqrt((2*d*x*(K+p*nR1))/(i*c))  # Optimal order point\n",
    "FR2=round(1-((Q1*i*c)/(p*d*x)), 4)     # To find z\n",
    "z2=round(st.norm.ppf(FR2), 2) \n",
    "R2=std2*z2+u2                          # Reorder point\n",
    "\n",
    "\n",
    "#Iteration2, found from part 2(b)\n",
    "z2 = 2.88\n",
    "Lz = 0.0006                            # from standard normal table\n",
    "nR2=round((std2*Lz),4)                 # Expected shortage\n",
    "Q2=math.sqrt((2*d*x*(K+p*nR2))/(i*c))  # Optimal order point\n",
    "R=171                                  # Safety stock level for (Q,R) calcualted in 2(c)i\n",
    "Q=205\n",
    "S=R-u2\n",
    "\n",
    "print(\"expected shortage n(R1) is\",nR1)\n",
    "print(\"\\noptimal order point in Interation1 is\",Q1)\n",
    "print(\"\\nF(R2)=\",FR2,\" and tz=\",z2)\n",
    "print('\\nReorder point in Iteration1 is ', R2)\n",
    "print(\"\\nexpected shortage n(R2) is\",nR2)\n",
    "print(\"\\noptimal order point in Interation2 is\",Q2)\n",
    "print('\\nSafety stock stock level for (Q,R) is ',round(S),'units')\n",
    "print()"
   ]
  },
  {
   "cell_type": "markdown",
   "id": "44b928c3-8cd4-4703-b310-6c0d3742fd02",
   "metadata": {},
   "source": [
    "(d) How much can HK save in terms of setup, holding and stock-out costs by changing the contract from 500 units of lot size to the optimal value you found in part (c)? (you should use the best R values you found for the corresponding Q values)"
   ]
  },
  {
   "cell_type": "code",
   "execution_count": 8,
   "id": "f91b7fd3-3b6c-4806-8170-dc34d11eed6e",
   "metadata": {},
   "outputs": [
    {
     "name": "stdout",
     "output_type": "stream",
     "text": [
      "\n",
      "Total cost at for (Q,R)= (205, 171)  is $ 1923.2417560975612\n",
      "\n",
      "Total cost at for (Q,R)= (500, 165.1484017345606)  is $ 2561.935821043896\n",
      "\n",
      "HK can save $ 638.6940649463347 by changing the contract from 500 units of lot size to the optimal value \n",
      "\n"
     ]
    }
   ],
   "source": [
    "TC_QR=i*c*((0.5*Q)+R-u2) + (K*d*x)/Q + (p*d*nR2)/Q        # Total cost for (Q,R) in Iteration2 is given by\n",
    "Q0=500                                                    # Total cost for 500units lot size is given by\n",
    "TC_Q0=i*c*((0.5*Q0)+R1-u2) + (K*d*x)/Q0 + (p*d*nR1)/Q0\n",
    "Diff=TC_Q0 - TC_QR                                        # Cost savings\n",
    "\n",
    "print(\"\\nTotal cost at for (Q,R)=\",(Q,R),\" is $\", TC_QR)\n",
    "print(\"\\nTotal cost at for (Q,R)=\",(Q0,R1),\" is $\", TC_Q0)\n",
    "print(\"\\nHK can save $\", Diff,\"by changing the contract from 500 units of lot size to the optimal value \")\n",
    "print()"
   ]
  },
  {
   "cell_type": "markdown",
   "id": "99594a79-7897-4cc6-a428-2cb15409aebb",
   "metadata": {},
   "source": [
    "(e) HK's management is uncomfortable with the $400 stock-out cost. Rather than using a stock-out cost, they decided to have a 92% Type 1 service level (alpha = 0.92). If HK uses a lot size equal to EOQ value: i. What is the reorder point? ii. What is the corresponding imputed shortage cost?"
   ]
  },
  {
   "cell_type": "code",
   "execution_count": 9,
   "id": "ed33d82f-e24d-453c-992f-932d660c80ad",
   "metadata": {},
   "outputs": [
    {
     "name": "stdout",
     "output_type": "stream",
     "text": [
      "\n",
      "Reorder point for 0.92 Type1 service is  141.8452688979654\n",
      "\n",
      "z= 1.41\n",
      "\n",
      "EOQ value for HK is  198.53184534734288 units\n",
      "\n",
      "Imputed shortage cost is $ 9.444328675430285\n",
      "\n"
     ]
    }
   ],
   "source": [
    "phi = 0.92                     # Type I service equal to alpha\n",
    "EOQ=math.sqrt((2*K*d*x)/(i*c)) # Optimal order quantity EOQ\n",
    "z=round(st.norm.ppf(phi), 2)   # To find z\n",
    "R=std2*z + u2                  # Reorder point\n",
    "S_C=(EOQ*i*c)/(d*x*(1-phi))    # Imputed shortage cost\n",
    "\n",
    "print('\\nReorder point for 0.92 Type1 service is ', R)\n",
    "print(\"\\nz=\",z)\n",
    "print(\"\\nEOQ value for HK is \", EOQ,\"units\")\n",
    "print(\"\\nImputed shortage cost is $\",S_C)\n",
    "print()"
   ]
  },
  {
   "cell_type": "markdown",
   "id": "fddb1fdb-f631-4a7f-a2e3-9dad8009ce1d",
   "metadata": {},
   "source": [
    "Solve part (e) for Type 2 service level (beta = 0.98) instead of Type 1. i. Find the optimum values of Q and R. (Do at most two iterations.) ii. Compute the imputed shortage cost for (ii). iii. What is the corresponding Type 1 service level?"
   ]
  },
  {
   "cell_type": "code",
   "execution_count": 11,
   "id": "8a61db2b-7528-4eeb-bfd3-64a1127ffe47",
   "metadata": {},
   "outputs": [
    {
     "name": "stdout",
     "output_type": "stream",
     "text": [
      "\n",
      "L_z= 0.2010610154030206\n",
      "\n",
      "n_R3= 3.970636906946861\n",
      "\n",
      "optimal order point in Interation1 is 934.929655342605\n",
      "\n",
      "F(R3)= 0.9952 \tz= 2.37\n",
      "\n",
      "Reorder point in Iteration1 is  160.80374984977163\n",
      "\n",
      "expected shortage n(R4) is 0.0592\n",
      "\n",
      "optimal order point in Interation2 is 227.726786658272\n",
      "\n",
      "F(R4)= 0.9978 \tz= 2.85\n",
      "\n",
      "Reorder point in Iteration1 is  170.28299032567477\n",
      "\n",
      "Imputed shortage cost is $ 10.833156855201205\n"
     ]
    }
   ],
   "source": [
    "beta=0.98\n",
    "n_R3=(1-beta)*EOQ                          # Expected no. of stockouts per unit time\n",
    "L_z=n_R3/std2                              # To find z through std loss function\n",
    "Q3 = math.sqrt((2*d*x*(K+p*n_R3))/(i*c))   # Iteration1, optimal order interval\n",
    "FR3=round(1-((Q3*i*c)/(p*d*x)), 4)         # To find z\n",
    "z3=round(st.norm.ppf(FR3), 2) \n",
    "R3=std2*z3 + u2                            # Reorder point\n",
    "z3 = 2.37                                  # Iteration2, found from part above\n",
    "Lz3 = 0.0030                               # from standard normal table\n",
    "nR4=round((std2*Lz3),4)                    # Expected shortage\n",
    "Q4=math.sqrt((2*d*x*(K+p*nR4))/(i*c))      # Optimal order point\n",
    "FR4=round(1-((Q4*i*c)/(p*d*x)), 4)         # To find z\n",
    "z4=round(st.norm.ppf(FR4), 2) \n",
    "R4=std2*z4 + u2                            # Reorder point\n",
    "S_C=(Q4*i*c)/(d*x*(1-phi))                 # Imputed shortage cost\n",
    "\n",
    "print('\\nL_z=',L_z) \n",
    "print('\\nn_R3=',n_R3)\n",
    "print(\"\\noptimal order point in Interation1 is\",Q3)\n",
    "print(\"\\nF(R3)=\",FR1,\"\\tz=\",z3)\n",
    "print('\\nReorder point in Iteration1 is ', R3)\n",
    "print(\"\\nexpected shortage n(R4) is\",nR4)\n",
    "print(\"\\noptimal order point in Interation2 is\",Q4)\n",
    "print(\"\\nF(R4)=\",FR4,\"\\tz=\",z4)\n",
    "print('\\nReorder point in Iteration1 is ', R4)\n",
    "print(\"\\nImputed shortage cost is $\",S_C)"
   ]
  },
  {
   "cell_type": "markdown",
   "id": "07d67c6a-6b14-4dc9-a801-b69d71416623",
   "metadata": {},
   "source": [
    "# Q3]\n",
    "Luciano sells linguini that he imports from Italy in his restaurant shop. It takes about three weeks for the Italian company to ship an order and fixed costs of ordering amount to about \\\\$75.00 for bookkeeping expenses. The linguini costs Luciano \\\\$2.00 per packet and may be purchased in any quantity. Luciano told Mario that his holding costs were based on a 20%. annual rate, and he estimated that the loss of customer goodwill for not being able to provide the linguini when requested amounts to \\\\$25.00 (unit stockout cost). The demand for linguini has been uncertain, but looking at past data, Mario feels confident that the weekly demand for linguini is distributed Normal(12; 8)."
   ]
  },
  {
   "cell_type": "markdown",
   "id": "8372cbcd-d18e-4ab2-b717-364b6d9fc479",
   "metadata": {},
   "source": [
    "(a) Find the optimal (Q;R) policy that Mario should implement."
   ]
  },
  {
   "cell_type": "code",
   "execution_count": 12,
   "id": "cbcd9dad-cbeb-4cdd-b2c3-05b92151223c",
   "metadata": {},
   "outputs": [
    {
     "name": "stdout",
     "output_type": "stream",
     "text": [
      "\n",
      "EOQ value which Luciano sells is  483.735464897913 units\n",
      "\n",
      "The mean during lead time is 36\n",
      "\n",
      "The variance during lead time is 24\n",
      "\n",
      "The standard deviation during lead time is 4.898979485566356\n",
      "\n",
      "F(R1) and z for the order quantity of 500 units is F(R1)= 0.9876 and z= 2.24\n",
      "\n",
      "R1=  46.973714047668636\n",
      "\n",
      "n(R2)= 0.0216\n",
      "\n",
      "Q2= 485.4737891997878\n",
      "\n",
      "F(R2)= 0.9876 \tz= 2.24\n",
      "\n",
      "Reorder point R2=  46.973714047668636\n"
     ]
    }
   ],
   "source": [
    "K=75     # Setup cost\n",
    "p=25     # unit stockoout cost\n",
    "c=2      # purchase cost\n",
    "i=0.2    # interest\n",
    "d=12     # mean demand per week\n",
    "d_v2=8   # variance of demand per week\n",
    "Lt=3     # replenishment time\n",
    "\n",
    "EOQ=math.sqrt((2*K*d*52)/(i*c))\n",
    "\n",
    "u3=d*Lt                               # Mean of demand with lead time\n",
    "var=d_v2*Lt                           # Variance of demand with lead time\n",
    "std3=np.sqrt(var)                     # Standard deviation of demand with lead time\n",
    "FR1=round(1-((EOQ*i*c)/(p*d*52)), 4)  # Iteration1, To find z \n",
    "z1=round(st.norm.ppf(FR1), 2) \n",
    "R1=std3*z1 + u3                       # Reorder point\n",
    "z2 = 2.24                             # Iteration2, found from part 2(b)\n",
    "Lz = 0.0044                           # from standard normal table\n",
    "nR2=round((std3*Lz),4)                # Expected shortage\n",
    "Q2=math.sqrt((2*d*x*(K+p*nR2))/(i*c)) # Optimal order point\n",
    "FR2=round(1-((Q2*i*c)/(p*d*52)), 4)   # To find z\n",
    "z2=round(st.norm.ppf(FR2), 2) \n",
    "R2=std3*z2 + u3                       # Reorder point\n",
    "\n",
    "\n",
    "print(\"\\nEOQ value which Luciano sells is \", EOQ,\"units\")\n",
    "print(\"\\nThe mean during lead time is\", u3)\n",
    "print(\"\\nThe variance during lead time is\", var)\n",
    "print(\"\\nThe standard deviation during lead time is\", std3)\n",
    "print(\"\\nF(R1) and z for the order quantity of 500 units is F(R1)=\",FR1,\"and z=\",z1)\n",
    "print('\\nR1= ', R1)\n",
    "print(\"\\nn(R2)=\",nR2)\n",
    "print(\"\\nQ2=\",Q2)\n",
    "print(\"\\nF(R2)=\",FR2,\"\\tz=\",z2)\n",
    "print('\\nReorder point R2= ', R2)"
   ]
  },
  {
   "cell_type": "markdown",
   "id": "5c0c6899-f37a-446b-a916-309a2e17b542",
   "metadata": {},
   "source": [
    "(b) Find the average frequency of ordering, fill rate, backorder level and inventory level for the policy you found in part (a)."
   ]
  },
  {
   "cell_type": "code",
   "execution_count": 13,
   "id": "9e99067f-0c15-4a5c-8fa1-53d7ce50d51d",
   "metadata": {},
   "outputs": [
    {
     "name": "stdout",
     "output_type": "stream",
     "text": [
      "\n",
      "Average Order frequency is 1.28659793814433\n",
      "\n",
      "Fill rate (Beta) = 0.9999554639175258\n",
      "\n",
      "The backorder level per cycle is 0.0216\n",
      "\n",
      "The average annual backorder level is 0.027790515463917528\n",
      "\n",
      "Inventory level is  253.47371404766864\n"
     ]
    }
   ],
   "source": [
    "Q=485               # EOQ found in previous part\n",
    "N=(d*52)/Q          # Average frequency\n",
    "beta = 1 - (nR2/Q)  # Fill rate (beta)\n",
    "T=(Q/(d*52))        # Average backorder level\n",
    "n_R=nR2/T\n",
    "S=R2-u3             # Inventory level, To calculate safety stock level S \n",
    "I=Q*0.5 + S\n",
    "\n",
    "print(\"\\nAverage Order frequency is\", N)\n",
    "print(\"\\nFill rate (Beta) =\",beta)\n",
    "print(\"\\nThe backorder level per cycle is\",nR2) \n",
    "print(\"\\nThe average annual backorder level is\",n_R)\n",
    "print(\"\\nInventory level is \",I)"
   ]
  },
  {
   "cell_type": "markdown",
   "id": "ff9b6feb-94d5-40b2-bfac-362e777b977d",
   "metadata": {},
   "source": [
    "(c) Suppose that the Italian linguini producer decided to require an order size of 500 packets. Find the reorder level that Mario should use if he wishes to satisfy 99% of his customer demands for the linguini (i.e., 99% fill rate)."
   ]
  },
  {
   "cell_type": "code",
   "execution_count": 14,
   "id": "d95416eb-f427-4eef-9c75-478b4e77c4cc",
   "metadata": {},
   "outputs": [
    {
     "name": "stdout",
     "output_type": "stream",
     "text": [
      "\n",
      "L_z= 1.0206207261596585\n",
      "\n",
      "n_R= 5.000000000000004\n",
      "\n",
      "Reorder level that Mario should use =  31\n"
     ]
    }
   ],
   "source": [
    "beta = 0.99\n",
    "Q = 500\n",
    "n_R = (1-beta)*Q     # Expected shortage\n",
    "L_z = n_R/std3       # To find z through std loss function\n",
    "z = -0.93            # from standard normal table for Lz = 1.0206\n",
    "R=std3*z + u3        # Reorder level\n",
    "\n",
    "print('\\nL_z=',L_z)\n",
    "print('\\nn_R=',n_R)\n",
    "print('\\nReorder level that Mario should use = ', round(R))"
   ]
  }
 ],
 "metadata": {
  "kernelspec": {
   "display_name": "Python 3 (ipykernel)",
   "language": "python",
   "name": "python3"
  },
  "language_info": {
   "codemirror_mode": {
    "name": "ipython",
    "version": 3
   },
   "file_extension": ".py",
   "mimetype": "text/x-python",
   "name": "python",
   "nbconvert_exporter": "python",
   "pygments_lexer": "ipython3",
   "version": "3.9.7"
  }
 },
 "nbformat": 4,
 "nbformat_minor": 5
}
