{
 "cells": [
  {
   "cell_type": "markdown",
   "id": "ec09233d-0f5a-4c9b-abad-46445f7c797c",
   "metadata": {},
   "source": [
    "## Q1]\n",
    "A manufacturing firm purchases two components, item 1 and item 2, from the same supplier. Both of these components are needed for production, and shortages are not allowed as company policy. The fixed setup cost that the firm incurs for each order is \\\\$20.00, independent of the type and number of items ordered. The following table outlines the demand, unit cost and holding cost values for the components.\n",
    "\n",
    "Component |Demand (units/yr) |Unit cost c |Holding cost ($/unit/yr) |\n",
    "------|-----|-----|-----| \n",
    "Item 1|2000|4.00|1.8|\n",
    "Item 2|1000|6.00|0.8|\n",
    "\n",
    "\n",
    "(a) Find the EOQ for Item 1 and Item 2, separately."
   ]
  },
  {
   "cell_type": "code",
   "execution_count": 2,
   "id": "38276df5-58d3-43aa-a7f3-e49754420deb",
   "metadata": {},
   "outputs": [
    {
     "name": "stdout",
     "output_type": "stream",
     "text": [
      "The Economic order quantity for item 1 is 211\n",
      "Annual total cost=$ 8379.47345971564\n",
      "The Economic order quantity for item 2 is 224\n",
      "Annual total cost=$ 6178.885714285714\n",
      "The total annual cost for both items together (calculated separately) is $ 14558.349999999999\n"
     ]
    }
   ],
   "source": [
    "# ORDERING SEPARATELY\n",
    "\n",
    "import numpy as np\n",
    "S1 = 20\n",
    "D1 = 2000\n",
    "H1 = 1.8\n",
    "c1 = 4\n",
    "def EOQ(S1, D1, H1):\n",
    "    if(S1>0 and D1>0 and H1>0):\n",
    "        Q1 = round((np.sqrt(2*S1*D1/H1)))\n",
    "        AOC1 = D1*S1/Q1\n",
    "        AHC1 = Q1*H1/2\n",
    "        PUC1 = c1*D1\n",
    "        ATC1 = AOC1+AHC1+PUC1\n",
    "        print('The Economic order quantity for item 1 is', Q1)\n",
    "        print('Annual total cost=$',ATC1)\n",
    "EOQ(S1,D1,H1)\n",
    "\n",
    "S2 = 20\n",
    "D2 = 1000\n",
    "H2 = 0.8\n",
    "c2 = 6\n",
    "def EOQ(S2, D2, H2):\n",
    "    if(S2>0 and D2>0 and H2>0):\n",
    "        Q2 = round((np.sqrt(2*S2*D2/H2)))\n",
    "        AOC2 = D2*S2/Q2\n",
    "        AHC2 = Q2*H2/2\n",
    "        PUC2 = c2*D2\n",
    "        ATC2 = AOC2+AHC2+PUC2\n",
    "        print('The Economic order quantity for item 2 is', Q2)\n",
    "        print('Annual total cost=$',ATC2)\n",
    "EOQ(S2,D2,H2)\n",
    "\n",
    "ATC1 = 8379.47\n",
    "ATC2 = 6178.88\n",
    "TAC1 = ATC1 + ATC2\n",
    "print('The total annual cost for both items together (calculated separately) is $',TAC1)"
   ]
  },
  {
   "cell_type": "markdown",
   "id": "027575a5-ac0c-433a-8da4-87173f84227e",
   "metadata": {},
   "source": [
    "<br>"
   ]
  },
  {
   "cell_type": "markdown",
   "id": "5525358a-102b-4c3c-9f8e-70dd2433e8a3",
   "metadata": {},
   "source": [
    "(b) Due to the high cost of ordering, and other administrative issues, the purchasing manager wants to coordinate the replenishments of these components and include both items in an order. Let T denote the time between these coordinated replenishments. Find the best value of T and the order quantities for the items."
   ]
  },
  {
   "cell_type": "code",
   "execution_count": 3,
   "id": "f7b7c4d2-ab29-4f66-8269-f920eccece03",
   "metadata": {},
   "outputs": [
    {
     "name": "stdout",
     "output_type": "stream",
     "text": [
      "The order quantity for item 1 is 191\n",
      "The value of T would be approximately 34.8575 days\n",
      "The order quantity for item 2 is 95.5\n",
      "The value of T would be approximately 34.8575 days\n",
      "\n",
      "Total unit cost for ordering values in (b) is $ 419.52408376963353\n"
     ]
    }
   ],
   "source": [
    "import numpy as np\n",
    "# K = incremental setup cost for item i, i.e i = 1,2,3,..\n",
    "S = 20\n",
    "D1 = 2000\n",
    "D2 = 1000\n",
    "H1 = 1.8\n",
    "H2 = 0.8\n",
    "def Q(S,D1,H1):\n",
    "    Q_str1 = round(np.sqrt(2*S*D1/((H1*D1/D1)+(H2*D2/D1))))\n",
    "    T1 = Q_str1*365/D1\n",
    "    Q_str2 = Q_str1*(D2/D1)\n",
    "    T2 = Q_str2*365/D2\n",
    "    print('The order quantity for item 1 is',Q_str1)\n",
    "    print('The value of T would be approximately',T1,'days')\n",
    "    print('The order quantity for item 2 is',Q_str2)\n",
    "    print('The value of T would be approximately',T2,'days')\n",
    "Q(S,D1,H1)\n",
    "print()\n",
    "Q_str1 = 191\n",
    "Q_str2 = 95.5\n",
    "TAC2 = (S*(D1/Q_str1))+((((H1*D1)/D1)+((H2*D2)/D1))*Q_str1)/2 \n",
    "print(\"Total unit cost for ordering values in (b) is $\",TAC2)\n"
   ]
  },
  {
   "cell_type": "markdown",
   "id": "762a5ea7-d3aa-4ccb-9e4b-e42947353066",
   "metadata": {},
   "source": [
    "(c) Compare the total unit cost for the ordering values that you found in (a) and (b). Which ordering policy is better?"
   ]
  },
  {
   "cell_type": "code",
   "execution_count": 4,
   "id": "cdb1394d-ddc1-4fcf-9809-b9f09d00deb8",
   "metadata": {},
   "outputs": [
    {
     "name": "stdout",
     "output_type": "stream",
     "text": [
      "The difference between the two total costs would be 14138.825916230366\n"
     ]
    }
   ],
   "source": [
    "diff = TAC1-TAC2\n",
    "print('The difference between the two total costs would be',diff)"
   ]
  },
  {
   "cell_type": "markdown",
   "id": "ef29b537-6d4c-4c7f-8936-14e185c45356",
   "metadata": {},
   "source": [
    "Comapring the 2 costs, we would prefer the optimal joint ordering policy"
   ]
  },
  {
   "cell_type": "markdown",
   "id": "3e07cc0b-63db-4fee-b42d-f1cb631e1460",
   "metadata": {},
   "source": [
    "<br>"
   ]
  },
  {
   "cell_type": "markdown",
   "id": "18e229b5-ca36-481d-8083-d39870844fa7",
   "metadata": {},
   "source": [
    "## Q2]\n",
    "Better-than-Most Buy maintains an inventory of three different headsets, Models A, B and C. The store pays the manufacturer \\\\$80, \\\\$110, \\\\$40 for these three models, respectively. Each order incurs a fixed cost of $40 in order processing, shipping, etc. and requires a 2-week lead time. The store estimates that its cost of capital is %17 per year and it estimates its other holding costs (warehouse space, insurance, etc.) at \\\\$1 per headset per month. The demand for the three headset models A, B and C are 40 per week, 60 per week and 3 per week, respectively.\n",
    "\n",
    "(a) Using the EOQ model, calculate the optimal order quantity, reorder interval, reorder point and total average cost per year for each item SEPARATELY. Fill in the following table and calculate the total annual cost for the three models."
   ]
  },
  {
   "cell_type": "code",
   "execution_count": 28,
   "id": "60544924-9da3-42db-a491-2c73429dbf5d",
   "metadata": {},
   "outputs": [
    {
     "name": "stdout",
     "output_type": "stream",
     "text": [
      "The Economic order quantity for A is 81\n",
      "The reorder interval is approximately 0.04 weeks\n",
      "The reorder point is approximately 80\n",
      "The average annual cost is 2064\n",
      "\n",
      "The Economic order quantity for B is 90\n",
      "The reorder interval is approximately 0.03 weeks\n",
      "The reorder point is approximately 120\n",
      "The average annual cost is 2768\n",
      "\n",
      "The Economic order quantity for C is 26\n",
      "The reorder interval is approximately 0.17 weeks\n",
      "The reorder point is approximately 6\n",
      "The average annual cost is 484\n",
      "\n"
     ]
    }
   ],
   "source": [
    "import numpy as np\n",
    "# Given data\n",
    "D1 = 40*52    # Demand for A yearly\n",
    "D2 = 60*52    # Demand for B yearly\n",
    "D3 = 3*52     # Deamnd for C yearly\n",
    "c1 = 80       # unit cost for A\n",
    "c2 = 110      # unit cost for B \n",
    "c3 = 40       # Unit cost for C\n",
    "S = 40        # Fixed cost\n",
    "i = 0.17      # per annum percentage of cost of capital\n",
    "H1 = 12+(i*c1) # Holding cost for A\n",
    "H2 = 12+(i*c2) # Holding cost for B\n",
    "H3 = 12+(i*c3) # Holding cost for C\n",
    "lt = 2*7       # Lead time of 2 weeks\n",
    "\n",
    "def EOQ(S, D1, H1):\n",
    "    Q1 = round((np.sqrt(2*S*D1/H1)))\n",
    "    T1 = round((np.sqrt((2*S)/(D1*H1))),2)\n",
    "    R1 = round(lt * D1/365)\n",
    "    AOC1 = D1*S/Q1\n",
    "    AHC1 = Q1*H1/2\n",
    "    ATC1 = round(AOC1+AHC1)\n",
    "    print('The Economic order quantity for A is', Q1)\n",
    "    print('The reorder interval is approximately',T1,'weeks')\n",
    "    print('The reorder point is approximately',R1)\n",
    "    print('The average annual cost is',ATC1)\n",
    "EOQ(S,D1,H1)\n",
    "print()\n",
    "def EOQ(S, D2, H2):\n",
    "    Q2 = round((np.sqrt(2*S*D2/H2)))\n",
    "    T2 = round((np.sqrt((2*S)/(D2*H2))),2)\n",
    "    R2 = round(lt * D2/365)\n",
    "    AOC2 = D2*S/Q2\n",
    "    AHC2 = Q2*H2/2\n",
    "    ATC2 = round(AOC2+AHC2)\n",
    "    print('The Economic order quantity for B is', Q2)\n",
    "    print('The reorder interval is approximately',T2,'weeks')\n",
    "    print('The reorder point is approximately',R2)\n",
    "    print('The average annual cost is',ATC2)\n",
    "EOQ(S,D2,H2)\n",
    "print()\n",
    "def EOQ(S, D3, H3):\n",
    "    Q3 = round((np.sqrt(2*S*D3/H3)))\n",
    "    T3 = round((np.sqrt((2*S)/(D3*H3))),2)\n",
    "    R3 = round(lt * D3/365)\n",
    "    AOC3 = D3*S/Q3\n",
    "    AHC3 = Q3*H3/2\n",
    "    ATC3 = round(AOC3+AHC3)\n",
    "    print('The Economic order quantity for C is', Q3)\n",
    "    print('The reorder interval is approximately',T3,'weeks')\n",
    "    print('The reorder point is approximately',R3)\n",
    "    print('The average annual cost is',ATC3)\n",
    "EOQ(S,D3,H3)\n",
    "print()"
   ]
  },
  {
   "cell_type": "code",
   "execution_count": 29,
   "id": "d302e5a9-de56-486a-8fc5-4e0647b1db77",
   "metadata": {},
   "outputs": [
    {
     "name": "stdout",
     "output_type": "stream",
     "text": [
      "Total annual cost for all 3 models is $ 5316\n"
     ]
    }
   ],
   "source": [
    "ATC1 = 2064\n",
    "ATC2 = 2768\n",
    "ATC3 = 484\n",
    "TC_all = (ATC1+ATC2+ATC3) \n",
    "print(\"Total annual cost for all 3 models is $\",TC_all)"
   ]
  },
  {
   "cell_type": "markdown",
   "id": "74e619af-0342-4290-90bd-5b07979d7a4c",
   "metadata": {},
   "source": [
    "----- |Q* |T* |R* |\n",
    "------|-----|-----|-----| \n",
    "Model A|81|0.04|80|\n",
    "Model B|90|0.03|120|\n",
    "Model C|26|0.17|6|"
   ]
  },
  {
   "cell_type": "markdown",
   "id": "24123926-b141-4571-ba31-d00da2e61681",
   "metadata": {},
   "source": [
    "<br>"
   ]
  },
  {
   "cell_type": "markdown",
   "id": "bb38d44a-8996-4978-9141-cdeb46949731",
   "metadata": {},
   "source": [
    "(b) The manufacturer has indicated that the \\\\$40 would only be charged once for the multiple models ordered in the same order to incentivize coordination benefits due to sharing of shipping trucks. The store manager has heard about the use of power-of-two policies in these cases and has asked you to find the best power-of-two policy (call it P2) that you can use. The manufacturer is willing to work with a base period of a week (i.e., the shortest shipping interval is a week). Calculate the best power-of-two policy for these three items and calculate the overall cost for maintaining these three items with this policy. Note that you will need to identify the “cycle” in your system, calculate the total costs for that cycle, and divide the total cost by the length of the cycle to calculate the total cost over three items per unit time (i.e., year). This is because some of the order costs will be “shared” when/if you are ordering multiple models in a week. Fill in the following table and indicate the TOTAL annual cost across all three models.\n"
   ]
  },
  {
   "cell_type": "code",
   "execution_count": 37,
   "id": "ceba4372-e079-49dd-bfc3-994f335e5f20",
   "metadata": {},
   "outputs": [
    {
     "name": "stdout",
     "output_type": "stream",
     "text": [
      "The K* value of item A is 1\n",
      "The K* value of item B is 1\n",
      "The K* value of item C is 3 \n",
      "\n",
      "The P2 reorder interval T* for model A is 0.038461538461538464 weeks\n",
      "The P2 reorder interval T* for model B is 0.038461538461538464 weeks\n",
      "The P2 reorder interval T* for model C is 0.15384615384615385 weeks\n",
      "\n",
      "The P2 order quantity Q* for model A is 80.0 units\n",
      "The P2 order quantity Q* for model B is 120.0 units\n",
      "The P2 order quantity Q* for model C is 24.0 units\n"
     ]
    }
   ],
   "source": [
    "import numpy as np\n",
    "import math\n",
    "\n",
    "B = 1/52    # Base period \n",
    "D1 = 40*52  # Demand for A yearly\n",
    "D2 = 60*52  # Demand for B yearly\n",
    "D3 = 3*52   # Deamnd for C yearly\n",
    "T1 = 0.04\n",
    "T2 = 0.03\n",
    "T3 = 0.17\n",
    "\n",
    "#K* Values (closest integer to log2(T*/B)) \n",
    "\n",
    "\n",
    "K_A = 1\n",
    "print(\"The K* value of item A is\",K_A)\n",
    "K_B = 1\n",
    "print(\"The K* value of item B is\",K_B)\n",
    "K_C = 3\n",
    "print(\"The K* value of item C is\",K_C,'\\n')\n",
    "\n",
    "P2_T_A = (2**K_A)*B\n",
    "print(\"The P2 reorder interval T* for model A is\", P2_T_A, \"weeks\")\n",
    "P2_T_B = (2**K_B)*B\n",
    "print(\"The P2 reorder interval T* for model B is\", P2_T_B, \"weeks\")\n",
    "P2_T_C = (2**K_C)*B\n",
    "print(\"The P2 reorder interval T* for model C is\", P2_T_C, \"weeks\\n\")\n",
    "\n",
    "P2_Q_A = (P2_T_A*D1)\n",
    "print(\"The P2 order quantity Q* for model A is\", P2_Q_A, \"units\")\n",
    "P2_Q_B = (P2_T_B*D2)\n",
    "print(\"The P2 order quantity Q* for model B is\", P2_Q_B, \"units\")\n",
    "P2_Q_C = (P2_T_C*D3)\n",
    "print(\"The P2 order quantity Q* for model C is\", P2_Q_C, \"units\")"
   ]
  },
  {
   "cell_type": "markdown",
   "id": "c93fdc37-b798-4f41-9d4b-ad3f6e513d78",
   "metadata": {},
   "source": [
    "-----|P2 Q |P2 T |P2 R |\n",
    "------|-----|-----|-----| \n",
    "Model A|80|0.038|80|\n",
    "Model B|120|0.038|120|\n",
    "Model C|24|0.153|6|"
   ]
  },
  {
   "cell_type": "code",
   "execution_count": 34,
   "id": "43be2839-bdfa-44bb-bd14-9be0ea625601",
   "metadata": {},
   "outputs": [
    {
     "name": "stdout",
     "output_type": "stream",
     "text": [
      "The total holding cost is $ 3091.6\n",
      "\n",
      "The total setup cost in P2 policy is $ 3380.0\n",
      "\n",
      "Total annual cost (excluding cD) per year in P2 policy is $ 6471.6\n"
     ]
    }
   ],
   "source": [
    "i = 0.17\n",
    "c1 = 80        # unit cost for A\n",
    "c2 = 110       # unit cost for B \n",
    "c3 = 40        # Unit cost for C\n",
    "S = 40\n",
    "H1 = 12+(i*c1) # Holding cost for A\n",
    "H2 = 12+(i*c2) # Holding cost for B\n",
    "H3 = 12+(i*c3) # Holding cost for C\n",
    "\n",
    "P2_Q_A = 80\n",
    "P2_Q_B = 120\n",
    "P2_Q_C = 24\n",
    "\n",
    "H_A=(H1*P2_Q_A)/2\n",
    "H_B=(H2*P2_Q_B)/2\n",
    "H_C=(H3*P2_Q_C)/2\n",
    "\n",
    "Total_H = H_A+H_B+H_C\n",
    "print(\"The total holding cost is $\",Total_H,)\n",
    "\n",
    "S_A = 4*S\n",
    "S_B = 8*S\n",
    "S_C = S\n",
    "\n",
    "Total_S = ((S_A+S_B+S_C)*52/8)\n",
    "print(\"\\nThe total setup cost in P2 policy is $\",Total_S,)\n",
    "\n",
    "TAC = Total_H + Total_S\n",
    "print(\"\\nTotal annual cost (excluding cD) per year in P2 policy is $\",TAC)"
   ]
  },
  {
   "cell_type": "markdown",
   "id": "7bad1443-0f3e-48b3-86c7-50a2e9c39b7c",
   "metadata": {},
   "source": [
    "<br>"
   ]
  },
  {
   "cell_type": "markdown",
   "id": "8943a00b-9fa0-4fcf-9805-54a4e9f99059",
   "metadata": {},
   "source": [
    "(c) How much is the difference between the two cases? Sometimes, the supplier may not allow the sharing of the order cost between multiple items. That would mean that the P2 policy would have a higher cost, but we know that the worst case bound is that that policy would at most be 6% worse than the use of EOQ values for the items. Discuss what types of reasons would compel you to coordinate orders even if the manufacturer was still charging the same fixed cost structure."
   ]
  },
  {
   "cell_type": "code",
   "execution_count": 35,
   "id": "f64f8c23-96c0-4f5f-8a9b-11ca4cf41f38",
   "metadata": {},
   "outputs": [
    {
     "name": "stdout",
     "output_type": "stream",
     "text": [
      "The Total cost difference between the two cases is $ 1155.6000000000004\n",
      "The policy adopted in 2a is found to be better\n"
     ]
    }
   ],
   "source": [
    "\n",
    "Diff = TAC - TC_all\n",
    "\n",
    "print(\"The Total cost difference between the two cases is $\",Diff)\n",
    "\n",
    "if TAC < TC_all: \n",
    "    print(\"The policy adopted in 2b is found to be better\")\n",
    "else:\n",
    "    print(\"The policy adopted in 2a is found to be better\")"
   ]
  },
  {
   "cell_type": "markdown",
   "id": "66591179-854e-4d38-9719-5223a7b35346",
   "metadata": {},
   "source": [
    "Reasons which would compel me to coordinate orders even if the manufacturer was still charging the same fixed cost structure\n",
    "\n",
    "Sharing of trucks\n",
    "\n",
    "Consolidation of ordering efforts\n",
    "\n",
    "Simplification of shipping schedules\n",
    "\n",
    "Coordination of shipments from a single warehouse to multiple retailers "
   ]
  }
 ],
 "metadata": {
  "kernelspec": {
   "display_name": "Python 3 (ipykernel)",
   "language": "python",
   "name": "python3"
  },
  "language_info": {
   "codemirror_mode": {
    "name": "ipython",
    "version": 3
   },
   "file_extension": ".py",
   "mimetype": "text/x-python",
   "name": "python",
   "nbconvert_exporter": "python",
   "pygments_lexer": "ipython3",
   "version": "3.9.7"
  }
 },
 "nbformat": 4,
 "nbformat_minor": 5
}
