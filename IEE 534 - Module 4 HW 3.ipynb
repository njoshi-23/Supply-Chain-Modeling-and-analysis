{
 "cells": [
  {
   "cell_type": "code",
   "execution_count": 1,
   "id": "9b5a2e63-e46c-42f5-803b-540deded2d7e",
   "metadata": {},
   "outputs": [],
   "source": [
    "import math\n",
    "import numpy as np\n",
    "from scipy.stats import norm\n",
    "import scipy.stats as st\n",
    "import matplotlib.pyplot as plt \n",
    "import seaborn as sb\n",
    "import statistics"
   ]
  },
  {
   "cell_type": "markdown",
   "id": "bfa64d10-8259-44d0-8a33-bd3e7a258cac",
   "metadata": {},
   "source": [
    "# Q1\n",
    "Weiss' paint store stocks a particularly popular white latex paint, whose monthly demand is approximately normal with mean 28 and standard deviation of 8. Replenishment lead time is about 14 weeks. Each can of paint costs the store \\\\$6. Although excess demands are back- ordered, the store owner estimates that unfilled demands cost about $10 each in bookkeeping and loss-of-goodwill costs. Fixed costs of replenishment are \\\\$15 per order, and holding costs are based on a 30% annual rate of interest. Assume that there are 4.33 weeks per month.\n",
    "\n",
    "(a) Suppose that the white paint is reordered on a monthly basis based on the inventory counts at the end of each month. Using the (Q,R) solution, determine the appropriate values of the (s, S) inventory control policy."
   ]
  },
  {
   "cell_type": "code",
   "execution_count": 35,
   "id": "de1a1ba0-7a31-45a9-9d47-aedab638e094",
   "metadata": {},
   "outputs": [],
   "source": [
    "# Given \n",
    "\n",
    "# Mean = 28\n",
    "# standard deviation = 8\n",
    "\n",
    "tau = 14  # Replenishment lead time in weeks which is approx 3.5 months\n",
    "c = 6     # cost of each paint can\n",
    "p = 10    # stock out cost per unit unsatisfied demand (book keeping and loss-of-goodwill costs)\n",
    "K = 15    # setup cost per order\n",
    "h = 0.3*6 # Holding costs\n",
    "\n",
    "# Lead time in a year = l\n",
    "# Decision variables, (Q,R),  Q = order quantity and R = reorder point\n",
    "# Assumption = 4.33 weeks per month\n",
    "\n",
    "d = 12 * 28   # mean rate of demand\n",
    "u = d*tau/52\n",
    "var_annual = 12*8*8\n",
    "var_ltd = var_annual * tau/52"
   ]
  },
  {
   "cell_type": "code",
   "execution_count": 36,
   "id": "f5b35a8b-daea-4398-a175-6103221f214a",
   "metadata": {},
   "outputs": [
    {
     "name": "stdout",
     "output_type": "stream",
     "text": [
      "The optimal quantity for iteration 1 is 74.83314773547883\n",
      "The value of F(R_0) is 0.9599108137131364\n",
      "The z-value would be 1.749652048970506\n",
      "The R_0 value would be 115.62061206890337\n",
      "The value of normal loss function would be 0.2329474552835401\n"
     ]
    }
   ],
   "source": [
    "# Iteration 0\n",
    "\n",
    "Q0 = np.sqrt(2*K*d/h)\n",
    "FR_0 = 1 - ((Q0*h)/(p*d))\n",
    "z0 = st.norm.ppf(FR_0)         # From appendix normal table\n",
    "R0 = np.sqrt(var_ltd) * z0 + u\n",
    "Lz0 = 0.0162\n",
    "nR0 = Lz0 * np.sqrt(var_ltd)\n",
    "\n",
    "print('The optimal quantity for iteration 1 is',Q0)\n",
    "print('The value of F(R_0) is',FR_0)\n",
    "print('The z-value would be',z0)\n",
    "print('The R_0 value would be',R0)\n",
    "print('The value of normal loss function would be',nR0)"
   ]
  },
  {
   "cell_type": "code",
   "execution_count": 37,
   "id": "c22f43c1-8ee5-4030-90d0-f9dda6c6bbd7",
   "metadata": {},
   "outputs": [
    {
     "name": "stdout",
     "output_type": "stream",
     "text": [
      "The optimal quantity for iteration 2 is 80.43426197663044\n",
      "The value of F(R_0) is 0.9569102167982337\n",
      "The z-value would be 1.7159042627408196\n",
      "The R_0 value would be 115.13533670324544\n"
     ]
    }
   ],
   "source": [
    "# Iteration 2\n",
    "\n",
    "Q1 = np.sqrt((2*d*K + 2*d*p*nR0)/h)\n",
    "FR_1 = 1 - ((Q1*h)/(p*d))\n",
    "z1 = st.norm.ppf(FR_1)         # From normal table\n",
    "R1 = np.sqrt(var_ltd) * z1 + u\n",
    "\n",
    "print('The optimal quantity for iteration 2 is',Q1)\n",
    "print('The value of F(R_0) is',FR_1)\n",
    "print('The z-value would be',z1)\n",
    "print('The R_0 value would be',R1)"
   ]
  },
  {
   "cell_type": "markdown",
   "id": "9e883081-9abd-41c4-a618-a17414cae7cf",
   "metadata": {},
   "source": [
    "The values of R_0 and R_1 match in iteration 1 and 2, hence further iterations will be terminated. Therefore the value of (Q,R) would be (80,115)"
   ]
  },
  {
   "cell_type": "code",
   "execution_count": 5,
   "id": "943c19f1-2a7d-4e25-b4f2-235eb1e33ea8",
   "metadata": {},
   "outputs": [
    {
     "name": "stdout",
     "output_type": "stream",
     "text": [
      "The value of s is 115\n",
      "The value of S is 195\n"
     ]
    }
   ],
   "source": [
    "# Assume s = R\n",
    "R = 115\n",
    "Q = 80\n",
    "S = R + Q\n",
    "s = R\n",
    "\n",
    "print('The value of s is',s)\n",
    "print('The value of S is',S)"
   ]
  },
  {
   "cell_type": "markdown",
   "id": "e1180ed4-2c97-4a28-9c18-e5dae7681833",
   "metadata": {},
   "source": [
    "Therefore the appropriate value of (s,S) is (115,195)"
   ]
  },
  {
   "cell_type": "markdown",
   "id": "c35769fc-effa-446d-8b7d-c3d10ff18954",
   "metadata": {},
   "source": [
    "(b) Suppose that the demands during the months of January to June were\n",
    "\n",
    "So s = 196 and S = 115\n",
    "\n",
    "\n",
    "Month|Demand|End of Month Inventory |Order|\n",
    "-----|-----|-----|-----\n",
    "December|-----|26|196-26=170\n",
    "January|37|196-37=159|None\n",
    "February|33|159-33=126|None\n",
    "March|26|126-26=100|196-100=96\n",
    "April|31|196-31=165|None\n",
    "May|14|165-14=151|None\n",
    "June|40|151-40=111|196-111=85\n",
    "\n",
    "If the starting inventory in January was 26 cans of paint, determine the number of units\n",
    "of paint ordered in each of the months January to June, following the (s; S) policy you\n",
    "found above."
   ]
  },
  {
   "cell_type": "markdown",
   "id": "d3d673fc-d845-4c6c-853c-ae8160dcaa8a",
   "metadata": {},
   "source": [
    "# Q2\n",
    "Office-Co sells secretarial chairs. Annual demand for the chairs is normally distributed witha mean of 1040 chairs and a standard deviation of 51 chairs. Office-Co checks inventory at the end of each week (typically a Saturday evening) and if necessary, puts in an order to its supplier. It costs \\\\$100 to place an order and the lead time to receive an order is two weeks. Office-Co estimates that if a customer wants a chair when the company is out-of-stock, the loss-of-goodwill cost is \\\\$50 per chair. Each chair costs \\\\$60 and is sold for \\\\$100. The holding cost of the chairs is based on a 30% annual interest rate. (There are 52 weeks in a year)\n",
    "\n",
    "(a) Discuss why it is appropriate to use an (s; S) inventory control policy in this case. Under what condition would you use a basestock (order-up-to) policy?"
   ]
  },
  {
   "cell_type": "code",
   "execution_count": 38,
   "id": "67a39c76-294b-41bd-9780-e91b82d595c2",
   "metadata": {},
   "outputs": [
    {
     "name": "stdout",
     "output_type": "stream",
     "text": [
      "The mean during lead time is 40.0\n",
      "\n",
      "The standard deviation during lead time is 10.0\n"
     ]
    }
   ],
   "source": [
    "# Given\n",
    "\n",
    "d    = 1040  # mean demand per year\n",
    "d_sd = 51    # Std deviation per year\n",
    "c    = 60    # each chair cost (unit cost)\n",
    "K    = 100   # Order placement cost\n",
    "r    = 100   # reselling cost\n",
    "p    = 50    # stock-out cost (loss of goodwill)\n",
    "i    = 0.3   # annual interest rate\n",
    "x    = 1\n",
    "lt   = 2     # Lead time\n",
    "\n",
    "# Mean of demand during lead time\n",
    "mu = round((d/52)*2, 2)\n",
    "\n",
    "# Standard deviation of demand during lead time\n",
    "sd = round(d_sd * np.sqrt((1/52)*2), 2)\n",
    "\n",
    "print(\"The mean during lead time is\", mu)\n",
    "print(\"\\nThe standard deviation during lead time is\", sd)"
   ]
  },
  {
   "cell_type": "markdown",
   "id": "78ad007b-0c10-4bbc-86a3-8a449f3b94f9",
   "metadata": {},
   "source": [
    "Office- co checks inventory at the end of each week and orders only if necessary.\n",
    "\n",
    "Therefore (s,S) policy is appropriate as K>0 and the firm will order when the inventory position becomes sufficiently low."
   ]
  },
  {
   "cell_type": "markdown",
   "id": "be1de7e2-dd50-43b5-873f-f9a78acd6fe2",
   "metadata": {},
   "source": [
    "(b) Using the (Q;R) solution, determine the appropriate values of the (s; S) inventory control policy. Use the EOQ value for the ordering quantity (i.e., no need for iterations)."
   ]
  },
  {
   "cell_type": "code",
   "execution_count": 39,
   "id": "615155bc-83e0-4507-9c8d-b4009c9edc00",
   "metadata": {},
   "outputs": [
    {
     "name": "stdout",
     "output_type": "stream",
     "text": [
      "EOQ value is  107.49676997731399 units\n",
      "F(R1) and z for the order quantity is \n",
      "F(R1)= 0.9628 \n",
      "z= 1.78\n",
      "R1=  58\n",
      "(s, S) is (58, 165)\n"
     ]
    }
   ],
   "source": [
    "# Optimal order quantity EOQ\n",
    "\n",
    "EOQ = np.sqrt((2*K*d)/(i*c))\n",
    "\n",
    "# To find z\n",
    "FR1 = round(1-((EOQ*i*c)/(p*d*x)), 4) \n",
    "z1  = round(st.norm.ppf(FR1), 2) \n",
    "\n",
    "# Reorder point\n",
    "R1 = sd*z1 + mu\n",
    "\n",
    "# Inventory control policy\n",
    "s = round(R1)\n",
    "S = round(EOQ+R1)\n",
    "\n",
    "print(\"EOQ value is \", EOQ,\"units\")\n",
    "print(\"F(R1) and z for the order quantity is \\nF(R1)=\",FR1,\"\\nz=\",z1)\n",
    "print('R1= ', round(R1))\n",
    "print(\"(s, S) is\",(s,S))"
   ]
  },
  {
   "cell_type": "markdown",
   "id": "a6da0dcb-e8a8-43d8-a2d0-e9207adba7f1",
   "metadata": {},
   "source": [
    "The appropriate inventory control policy (s, S) is ( 58 , 165 )"
   ]
  },
  {
   "cell_type": "markdown",
   "id": "1cbcc548-0aa4-4a53-8ef3-98cd5d4933ff",
   "metadata": {},
   "source": [
    "(c) Suppose the company wants to have, on average, at most eight weeks with stockouts every year. Would the above calculated policy satisfy this requirement? Justify your answer\n",
    "with calculations."
   ]
  },
  {
   "cell_type": "code",
   "execution_count": 21,
   "id": "68cce0e3-6e09-44ae-87b4-66af9d607c19",
   "metadata": {},
   "outputs": [
    {
     "name": "stdout",
     "output_type": "stream",
     "text": [
      "Type I service: alpha= 0.8461538461538461 or 84.61538461538461 %\n"
     ]
    }
   ],
   "source": [
    "# The demand is not satisfied for 8 weeks\n",
    "alpha = (52-8)/52\n",
    "print(\"Type I service: alpha=\",alpha,\"or\", alpha*100,\"%\")"
   ]
  },
  {
   "cell_type": "markdown",
   "id": "e23d96d7-59ce-41fe-8c65-a70569cdd8e3",
   "metadata": {},
   "source": [
    "This Type I service obtained (alpha=0.8461) is less than that obtained in part b which is alpha(FR1)=0.9628, Hence the policy with 0.8461 is less stringent and would satisfy the requirement"
   ]
  },
  {
   "cell_type": "markdown",
   "id": "6b185f19-77a6-4428-818f-3d391617c688",
   "metadata": {},
   "source": [
    "(d) Can you propose a policy that satisfies the requirement of \\at most eight weeks with stockouts per year\" with less cost than the one calculated in part (b)? How much can you improve on the expected inventory holding cost?"
   ]
  },
  {
   "cell_type": "code",
   "execution_count": 34,
   "id": "ad36f2a6-41e7-43b4-91fe-57ae60834a31",
   "metadata": {},
   "outputs": [
    {
     "name": "stdout",
     "output_type": "stream",
     "text": [
      "z1= 1.02\n",
      "R1= 50.2\n",
      "R2=  57.7\n",
      "Q1= 111.45502331533659\n",
      "Q2= 111.66218896495108\n",
      "n(R2)= 0.158\n",
      "Iteration 2\n",
      "F(R2) and z2 for the order quantity is \n",
      "F(R2)= 0.9614 \n",
      "z= 1.76\n",
      "The total cost for the policy in part b is 2331.8598130841124\n",
      "The total cost for the new policy is 2328.51940136912\n",
      "Total holding cost for policy in part b is 1287.0 \n",
      "Total holding cost for new policy is 1323.5597006845596\n",
      "Difference in holding cost is 36.55970068455963\n"
     ]
    }
   ],
   "source": [
    "# Total cost for part b with (s=58 and S=165) or (Q=107, R=58)\n",
    "\n",
    "s    = 58\n",
    "S    = 165\n",
    "Q    = 107\n",
    "R    = 58\n",
    "n_R1 = 0.15\n",
    "TC_Q = i*c*((0.5*Q)+R-mu) + (K*d*x)/Q + (p*d*n_R1)/Q\n",
    "\n",
    "# find optimal policy with lower cost than part b for alpha=0.8461\n",
    "FR1 = 0.8461 \n",
    "\n",
    "#To find z \n",
    "z1 = round(st.norm.ppf(FR1), 2)\n",
    "R1 = sd*z1 + mu \n",
    "\n",
    "# Optimal order point\n",
    "Q1 = np.sqrt((2*d*x*(K+p*n_R1))/(i*c))\n",
    "\n",
    "# To find z \n",
    "FR2 = round(1-((Q1*i*c)/(p*d*x)), 4) \n",
    "z2  = round(st.norm.ppf(FR2), 2) \n",
    "\n",
    "#Reorder point\n",
    "R2 = sd*z2 + mu\n",
    "\n",
    "# From\n",
    "z2  = 1.76\n",
    "Lz2 = 0.0158  # from standard normal table\n",
    "\n",
    "# Expected shortage\n",
    "nR2 = round((sd*Lz2),4)\n",
    "\n",
    "# Optimal order point\n",
    "Q2 = np.sqrt((2*d*x*(K+p*nR2))/(i*c))\n",
    "TC_Q2 = i*c*((0.5*Q2)+R2-mu) + (K*d*x)/Q2 + (p*d*nR2)/Q2\n",
    "\n",
    "# For policy in partb\n",
    "T_HC1 = (i*c*(R-mu+(0.5*Q)))\n",
    "\n",
    "# for the new policy\n",
    "T_HC2 = (i*c*(R2-mu+(0.5*Q2)))\n",
    "\n",
    "print(\"z1=\",z1)\n",
    "print(\"R1=\",R1)\n",
    "print('R2= ', R2)\n",
    "print(\"Q1=\",Q1)\n",
    "print(\"Q2=\",Q2)\n",
    "print(\"n(R2)=\",nR2)\n",
    "print(\"Iteration 2\") \n",
    "print(\"F(R2) and z2 for the order quantity is \\nF(R2)=\",FR2,\"\\nz=\",z2)\n",
    "print(\"The total cost for the policy in part b is\",TC_Q)\n",
    "print(\"The total cost for the new policy is\",TC_Q2)\n",
    "print(\"Total holding cost for policy in part b is\",T_HC1,\"\\nTotal holding cost for new policy is\", T_HC2) \n",
    "print(\"Difference in holding cost is\",T_HC2-T_HC1)"
   ]
  },
  {
   "cell_type": "markdown",
   "id": "3cfdea5a",
   "metadata": {},
   "source": [
    "The Total cost for the new policy (Q=111, R=57) in part d is less than that in part b (Q=107,R=58). But the holding cost can be improved by $35"
   ]
  },
  {
   "cell_type": "markdown",
   "id": "c1f8f32c-a577-43a6-ac98-814d7523d3d7",
   "metadata": {},
   "source": [
    "(e) Office-co is considering investing in technology so that they can move from an (s; S) policy to a (Q;R) policy. Calculate a (Q;R) policy by performing a single iteration (Start with Q0=EOQ and perform one iteration to obtain the corresponding R1 and Q1)."
   ]
  },
  {
   "cell_type": "code",
   "execution_count": 33,
   "id": "039b3e8c-7322-4b95-8cf8-72af71075a3d",
   "metadata": {},
   "outputs": [
    {
     "name": "stdout",
     "output_type": "stream",
     "text": [
      "EOQ value is  107.49676997731399 units\n",
      "F(R1) and z for the order quantity is \n",
      "F(R1)= 0.9628 \n",
      "z= 1.78\n",
      "R1=  58\n",
      "n(R1)= 0.152\n",
      "Q1= 111.50685081096039\n"
     ]
    }
   ],
   "source": [
    "# Optimal order quantity EOQ\n",
    "EOQ=np.sqrt((2*K*d)/(i*c))\n",
    "\n",
    "# To find z \n",
    "FR1=round(1-((EOQ*i*c)/(p*d*x)), 4) \n",
    "z1=round(st.norm.ppf(FR1), 2) \n",
    "\n",
    "# Reorder point\n",
    "R1=sd*z1 + mu\n",
    "\n",
    "# Iteration1\n",
    "z1 = 1.78\n",
    "Lz = 0.0152  # from standard normal table\n",
    "\n",
    "# Expected shortage\n",
    "nR1=round((sd*Lz),4)\n",
    "\n",
    "# Optimal order point\n",
    "Q1=np.sqrt((2*d*x*(K+p*nR1))/(i*c))\n",
    "\n",
    "print(\"EOQ value is \", EOQ,\"units\")\n",
    "print(\"F(R1) and z for the order quantity is \\nF(R1)=\",FR1,\"\\nz=\",z1)\n",
    "print('R1= ', round(R1))\n",
    "print(\"n(R1)=\",nR1)\n",
    "print(\"Q1=\",Q1)"
   ]
  },
  {
   "cell_type": "markdown",
   "id": "12c6738b",
   "metadata": {},
   "source": [
    "(Q, R) policy by performing a single iteration (111, 58)"
   ]
  },
  {
   "cell_type": "markdown",
   "id": "8ad566e2-2189-47d8-80db-2acdee2825bb",
   "metadata": {},
   "source": [
    "(f) What is the Type I and Type II service levels obtained by the (Q;R) policy that you have calculated in Part (e)?"
   ]
  },
  {
   "cell_type": "code",
   "execution_count": 28,
   "id": "b402fb06-10ce-4ac4-8c65-9bcdd241164d",
   "metadata": {},
   "outputs": [
    {
     "name": "stdout",
     "output_type": "stream",
     "text": [
      "Type I service is alpha = 0.9626, i.e. 96.26 % \n",
      "Type II service is: Beta =  0.998636855055142 i.e. 99.8636855055142 %\n"
     ]
    }
   ],
   "source": [
    "# Type I service calculated in part (c)\n",
    "beta = 1-(nR1/Q1)\n",
    "print(\"Type I service is alpha = 0.9626, i.e. 96.26 % \")\n",
    "print(\"Type II service is: Beta = \",beta,\"i.e.\",beta*100,\"%\")"
   ]
  },
  {
   "cell_type": "markdown",
   "id": "c03e8491-8f26-4e96-a476-a03802a1ccc6",
   "metadata": {},
   "source": [
    "(g) Discuss how you would justify the costs of this technology. What kinds of systems would enable the company to \\move from an (s; S) policy to a (Q,R) policy\" ?"
   ]
  },
  {
   "cell_type": "code",
   "execution_count": 29,
   "id": "1d66aaae-031f-462c-9aa9-2dc4e16ff25e",
   "metadata": {},
   "outputs": [
    {
     "name": "stdout",
     "output_type": "stream",
     "text": [
      "The total cost for the policy in part b (s,S) is 2331.8598130841124\n",
      "The total cost for the new policy in part d (Q,R) is 2328.51940136912\n"
     ]
    }
   ],
   "source": [
    "# justify costs of this techology\n",
    "print(\"The total cost for the policy in part b (s,S) is\",TC_Q)\n",
    "print(\"The total cost for the new policy in part d (Q,R) is\",TC_Q2)"
   ]
  },
  {
   "cell_type": "markdown",
   "id": "e8af79db",
   "metadata": {},
   "source": [
    "Q,R policy gives a lower total cost, lower fixed cost but increased holding cost. So, if a lower total cost and lower fixed cost are more favourable to the company then it will move from (s,S) to (Q,R)"
   ]
  },
  {
   "cell_type": "markdown",
   "id": "719f5b94-d8ae-4ef7-8407-1cb823a3cfe2",
   "metadata": {},
   "source": [
    "# Q3\n",
    "Quick Print Inc. uses plain and three-hole punched paper for copying needs. Demand for each paper type is highly variable. Weekly demand for the plain paper is estimated to be normally distributed with mean 100 and standard deviation 65 (measured in boxes). Each week, a replenishment order is placed to the paper factory and the order arrives five weeks later. All copying orders that cannot be satisfed immediately due to lack of paper are back-ordered. The inventory holding cost is about \\\\$1 per box per year. Quick Print estimates that the backorder\n",
    "penalty cost is \\\\$20 per box. Assume that there are 4.33 weeks per month.\n",
    "\n",
    "(a) Suppose that Quick Print decides to establish an order-up-to level of 700 for plain paper. At the start of this week, there are 523 boxes in inventory and 180 boxes on order. How much will Quick Print order this week?"
   ]
  },
  {
   "cell_type": "code",
   "execution_count": 10,
   "id": "39e583f2-b9bd-4a6b-b72b-e24ce04e3fa9",
   "metadata": {},
   "outputs": [
    {
     "name": "stdout",
     "output_type": "stream",
     "text": [
      "\n",
      " 703\n",
      "\n",
      " The current inventory position is 703 which is more than the target inventory position of 700, therefore there will be no order this week\n",
      "\n"
     ]
    }
   ],
   "source": [
    "# Given \n",
    "IP   = 700   # Target inventory position\n",
    "OH   = 523   # Boxes on-hand inventory\n",
    "OO   = 180   # Boxes On order \n",
    "\n",
    "CI = OH + OO \n",
    "print('\\n', CI)\n",
    "print('\\n The current inventory position is',CI,'which is more than the target inventory position of 700, therefore there will be no order this week\\n')"
   ]
  },
  {
   "cell_type": "markdown",
   "id": "5cef6389-246c-47cf-9292-0ce7025c9536",
   "metadata": {},
   "source": [
    "(b) Again, assume that Quick Print uses an order-up-to level of 700.\n",
    "\n",
    "i. What is Quick Print's Type I service level?\n",
    "\n",
    "ii. What is Quick Print's expected on-hand inventory?"
   ]
  },
  {
   "cell_type": "code",
   "execution_count": 11,
   "id": "bcda0351-2759-41a0-9c45-d87e504453fc",
   "metadata": {},
   "outputs": [
    {
     "name": "stdout",
     "output_type": "stream",
     "text": [
      "The z value would be 0.6280742930213278\n",
      "Expected on-hand inventory is 620.0\n"
     ]
    }
   ],
   "source": [
    "BSL  = 700    # base stock level (order upto level)\n",
    "r    = 1      # in weeks\n",
    "L    = 5      # in weeks\n",
    "u3   = 100\n",
    "std3 = 65\n",
    "\n",
    "z = (700 - ((r+L)*u3))/(std3*np.sqrt(r+L))\n",
    "print('The z value would be',z)\n",
    "\n",
    "#To find average inventory level(on-hand inventory)\n",
    "I=(r*d*0.5)+((z*std3)*(np.sqrt(r+L))) \n",
    "print(\"Expected on-hand inventory is\",I)"
   ]
  },
  {
   "cell_type": "markdown",
   "id": "74146bb6-289c-4bb8-8c33-187fd697852e",
   "metadata": {},
   "source": [
    "Therefore after observing the standard normal table, we determine the type I service level to be 73.24 %"
   ]
  },
  {
   "cell_type": "markdown",
   "id": "12484dff-645d-4879-99b8-fc702083b929",
   "metadata": {},
   "source": [
    "(c) What is Quick Print's optimal order-up-to level for plain paper if Quick Print operates with a 85% in-stock probability (i.e., Type I service level)?"
   ]
  },
  {
   "cell_type": "code",
   "execution_count": 12,
   "id": "c2771a49-e2d9-4993-b196-fe3c4f61d244",
   "metadata": {},
   "outputs": [
    {
     "name": "stdout",
     "output_type": "stream",
     "text": [
      "\n",
      "The safety stock is 165.58550661214284\n",
      "\n",
      "Quick Prints optimal target inventory position will be  765.5855066121428\n"
     ]
    }
   ],
   "source": [
    "z    = 1.04 # z-value corresponding to 85% stock probability (Type I service level)\n",
    "u3   = 100  # average weekly demand\n",
    "std3 = 65   # standard deviation of weekly demand\n",
    "P    = 1    # Replenishment time in weeks\n",
    "L    = 5    # Lead time in weeks\n",
    "\n",
    "Ss = z*std3*(np.sqrt(P+L))\n",
    "Ot = u3*(P+L) + Ss\n",
    "\n",
    "print('\\nThe safety stock is',Ss)\n",
    "print('\\nQuick Prints optimal target inventory position will be ',Ot)"
   ]
  }
 ],
 "metadata": {
  "kernelspec": {
   "display_name": "Python 3 (ipykernel)",
   "language": "python",
   "name": "python3"
  },
  "language_info": {
   "codemirror_mode": {
    "name": "ipython",
    "version": 3
   },
   "file_extension": ".py",
   "mimetype": "text/x-python",
   "name": "python",
   "nbconvert_exporter": "python",
   "pygments_lexer": "ipython3",
   "version": "3.9.7"
  }
 },
 "nbformat": 4,
 "nbformat_minor": 5
}
